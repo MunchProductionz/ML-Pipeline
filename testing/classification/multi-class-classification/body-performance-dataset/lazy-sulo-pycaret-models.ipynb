{
 "cells": [
  {
   "cell_type": "markdown",
   "metadata": {},
   "source": [
    "# Lazy Sulo vs. PyCaret on Body Performance Dataset\n",
    "## Guide"
   ]
  },
  {
   "cell_type": "code",
   "execution_count": 1,
   "metadata": {},
   "outputs": [],
   "source": [
    "guide = \"https://www.kaggle.com/code/rsesha/lazy-sulo-vs-pycaret-on-body-perf-75-bal-accu\""
   ]
  },
  {
   "cell_type": "markdown",
   "metadata": {},
   "source": [
    "You can see that PyCaret produces slightly worse results than Lazy+Sulo while it takes much longer to produce results for even a small dataset.\n",
    "\n",
    "If this were using a very large dataset, can you imagine the time difference?\n",
    "\n",
    "The number of lines of code in Lazy+Sulo were 5-6 lines, similar to PyCaret."
   ]
  },
  {
   "cell_type": "markdown",
   "metadata": {},
   "source": [
    "## Make necessary imports"
   ]
  },
  {
   "cell_type": "code",
   "execution_count": 30,
   "metadata": {},
   "outputs": [],
   "source": [
    "import opendatasets as od\n",
    "import numpy as np # linear algebra\n",
    "import pandas as pd # data processing, CSV file I/O (e.g. pd.read_csv)\n",
    "\n",
    "from sklearn.model_selection import train_test_split\n",
    "from sklearn.metrics import classification_report\n",
    "from lazytransform import LazyTransformer\n",
    "from lazytransform import SuloClassifier\n",
    "from pycaret.classification import *\n",
    "import pycaret.classification as clf"
   ]
  },
  {
   "cell_type": "markdown",
   "metadata": {},
   "source": [
    "## Importing data\n",
    "### Import data"
   ]
  },
  {
   "cell_type": "code",
   "execution_count": 31,
   "metadata": {},
   "outputs": [
    {
     "name": "stdout",
     "output_type": "stream",
     "text": [
      "Skipping, found downloaded files in \".\\body-performance-dataset\" (use force=True to force download)\n"
     ]
    }
   ],
   "source": [
    "od.download(\"https://www.kaggle.com/datasets/kukuroo3/body-performance-dataset\")   # Got error, so I downloaded it manually"
   ]
  },
  {
   "cell_type": "markdown",
   "metadata": {},
   "source": [
    "### Read data"
   ]
  },
  {
   "cell_type": "code",
   "execution_count": 32,
   "metadata": {},
   "outputs": [
    {
     "name": "stdout",
     "output_type": "stream",
     "text": [
      "(13393, 12)\n"
     ]
    },
    {
     "data": {
      "text/html": [
       "<div>\n",
       "<style scoped>\n",
       "    .dataframe tbody tr th:only-of-type {\n",
       "        vertical-align: middle;\n",
       "    }\n",
       "\n",
       "    .dataframe tbody tr th {\n",
       "        vertical-align: top;\n",
       "    }\n",
       "\n",
       "    .dataframe thead th {\n",
       "        text-align: right;\n",
       "    }\n",
       "</style>\n",
       "<table border=\"1\" class=\"dataframe\">\n",
       "  <thead>\n",
       "    <tr style=\"text-align: right;\">\n",
       "      <th></th>\n",
       "      <th>age</th>\n",
       "      <th>gender</th>\n",
       "      <th>height_cm</th>\n",
       "      <th>weight_kg</th>\n",
       "      <th>body fat_%</th>\n",
       "      <th>diastolic</th>\n",
       "      <th>systolic</th>\n",
       "      <th>gripForce</th>\n",
       "      <th>sit and bend forward_cm</th>\n",
       "      <th>sit-ups counts</th>\n",
       "      <th>broad jump_cm</th>\n",
       "      <th>class</th>\n",
       "    </tr>\n",
       "  </thead>\n",
       "  <tbody>\n",
       "    <tr>\n",
       "      <th>0</th>\n",
       "      <td>27.0</td>\n",
       "      <td>M</td>\n",
       "      <td>172.3</td>\n",
       "      <td>75.24</td>\n",
       "      <td>21.3</td>\n",
       "      <td>80.0</td>\n",
       "      <td>130.0</td>\n",
       "      <td>54.9</td>\n",
       "      <td>18.4</td>\n",
       "      <td>60.0</td>\n",
       "      <td>217.0</td>\n",
       "      <td>C</td>\n",
       "    </tr>\n",
       "    <tr>\n",
       "      <th>1</th>\n",
       "      <td>25.0</td>\n",
       "      <td>M</td>\n",
       "      <td>165.0</td>\n",
       "      <td>55.80</td>\n",
       "      <td>15.7</td>\n",
       "      <td>77.0</td>\n",
       "      <td>126.0</td>\n",
       "      <td>36.4</td>\n",
       "      <td>16.3</td>\n",
       "      <td>53.0</td>\n",
       "      <td>229.0</td>\n",
       "      <td>A</td>\n",
       "    </tr>\n",
       "    <tr>\n",
       "      <th>2</th>\n",
       "      <td>31.0</td>\n",
       "      <td>M</td>\n",
       "      <td>179.6</td>\n",
       "      <td>78.00</td>\n",
       "      <td>20.1</td>\n",
       "      <td>92.0</td>\n",
       "      <td>152.0</td>\n",
       "      <td>44.8</td>\n",
       "      <td>12.0</td>\n",
       "      <td>49.0</td>\n",
       "      <td>181.0</td>\n",
       "      <td>C</td>\n",
       "    </tr>\n",
       "    <tr>\n",
       "      <th>3</th>\n",
       "      <td>32.0</td>\n",
       "      <td>M</td>\n",
       "      <td>174.5</td>\n",
       "      <td>71.10</td>\n",
       "      <td>18.4</td>\n",
       "      <td>76.0</td>\n",
       "      <td>147.0</td>\n",
       "      <td>41.4</td>\n",
       "      <td>15.2</td>\n",
       "      <td>53.0</td>\n",
       "      <td>219.0</td>\n",
       "      <td>B</td>\n",
       "    </tr>\n",
       "    <tr>\n",
       "      <th>4</th>\n",
       "      <td>28.0</td>\n",
       "      <td>M</td>\n",
       "      <td>173.8</td>\n",
       "      <td>67.70</td>\n",
       "      <td>17.1</td>\n",
       "      <td>70.0</td>\n",
       "      <td>127.0</td>\n",
       "      <td>43.5</td>\n",
       "      <td>27.1</td>\n",
       "      <td>45.0</td>\n",
       "      <td>217.0</td>\n",
       "      <td>B</td>\n",
       "    </tr>\n",
       "  </tbody>\n",
       "</table>\n",
       "</div>"
      ],
      "text/plain": [
       "    age gender  height_cm  weight_kg  body fat_%  diastolic  systolic  \\\n",
       "0  27.0      M      172.3      75.24        21.3       80.0     130.0   \n",
       "1  25.0      M      165.0      55.80        15.7       77.0     126.0   \n",
       "2  31.0      M      179.6      78.00        20.1       92.0     152.0   \n",
       "3  32.0      M      174.5      71.10        18.4       76.0     147.0   \n",
       "4  28.0      M      173.8      67.70        17.1       70.0     127.0   \n",
       "\n",
       "   gripForce  sit and bend forward_cm  sit-ups counts  broad jump_cm class  \n",
       "0       54.9                     18.4            60.0          217.0     C  \n",
       "1       36.4                     16.3            53.0          229.0     A  \n",
       "2       44.8                     12.0            49.0          181.0     C  \n",
       "3       41.4                     15.2            53.0          219.0     B  \n",
       "4       43.5                     27.1            45.0          217.0     B  "
      ]
     },
     "execution_count": 32,
     "metadata": {},
     "output_type": "execute_result"
    }
   ],
   "source": [
    "file = 'body-performance-dataset/bodyPerformance.csv'\n",
    "df = pd.read_csv(file)\n",
    "print(df.shape)\n",
    "df.head()"
   ]
  },
  {
   "cell_type": "code",
   "execution_count": 6,
   "metadata": {},
   "outputs": [
    {
     "data": {
      "text/plain": [
       "<AxesSubplot: ylabel='Density'>"
      ]
     },
     "execution_count": 6,
     "metadata": {},
     "output_type": "execute_result"
    },
    {
     "data": {
      "image/png": "[encoded data removed]",
      "text/plain": [
       "<Figure size 800x550 with 1 Axes>"
      ]
     },
     "metadata": {},
     "output_type": "display_data"
    }
   ],
   "source": [
    "df['systolic'].plot(kind='kde')"
   ]
  },
  {
   "cell_type": "code",
   "execution_count": 33,
   "metadata": {},
   "outputs": [],
   "source": [
    "df=df.replace({'M':0, 'F':1})\n",
    "df=df.replace({'A':1,'B':2,'C':3,'D':4})"
   ]
  },
  {
   "cell_type": "markdown",
   "metadata": {},
   "source": [
    "## Preprocessing"
   ]
  },
  {
   "cell_type": "markdown",
   "metadata": {},
   "source": [
    "### Split Train/Test"
   ]
  },
  {
   "cell_type": "code",
   "execution_count": 34,
   "metadata": {},
   "outputs": [
    {
     "data": {
      "text/plain": [
       "11"
      ]
     },
     "execution_count": 34,
     "metadata": {},
     "output_type": "execute_result"
    }
   ],
   "source": [
    "target = 'class'\n",
    "preds = [x for x in list(df) if x not in [target]]\n",
    "len(preds)"
   ]
  },
  {
   "cell_type": "code",
   "execution_count": 35,
   "metadata": {},
   "outputs": [
    {
     "name": "stdout",
     "output_type": "stream",
     "text": [
      "(12053, 12) (1340, 12)\n"
     ]
    }
   ],
   "source": [
    "train, test = train_test_split(df, test_size=0.1, random_state=99, stratify=df[target])\n",
    "print(train.shape, test.shape)"
   ]
  },
  {
   "cell_type": "code",
   "execution_count": 36,
   "metadata": {},
   "outputs": [
    {
     "data": {
      "text/plain": [
       "<AxesSubplot: >"
      ]
     },
     "execution_count": 36,
     "metadata": {},
     "output_type": "execute_result"
    },
    {
     "data": {
      "image/png": "[encoded data removed]",
      "text/plain": [
       "<Figure size 800x550 with 1 Axes>"
      ]
     },
     "metadata": {},
     "output_type": "display_data"
    }
   ],
   "source": [
    "### Take a look at class distribution ##\n",
    "train[target].value_counts(1).plot(kind='bar')"
   ]
  },
  {
   "cell_type": "markdown",
   "metadata": {},
   "source": [
    "## Model - LazyTransformer"
   ]
  },
  {
   "cell_type": "markdown",
   "metadata": {},
   "source": [
    "### LazyTransformer"
   ]
  },
  {
   "cell_type": "code",
   "execution_count": 13,
   "metadata": {},
   "outputs": [],
   "source": [
    "lazy = LazyTransformer(model=None, encoders='auto', scalers=None, date_to_string=False,\n",
    "        transform_target=False, imbalanced=False, save=False, combine_rare=False, verbose=0)"
   ]
  },
  {
   "cell_type": "code",
   "execution_count": 16,
   "metadata": {},
   "outputs": [
    {
     "name": "stdout",
     "output_type": "stream",
     "text": [
      "    Single_Label Multi_Classification problem \n",
      "Shape of dataset: (12053, 11). Now we classify variables into different types...\n",
      "Time taken to define data pipeline = 1 second(s)\n",
      "No model input given...\n",
      "Lazy Transformer Pipeline created...\n",
      "    Time taken to fit dataset = 1 second(s)\n",
      "    Time taken to transform dataset = 1 second(s)\n",
      "    Shape of transformed dataset: (12053, 11)\n"
     ]
    }
   ],
   "source": [
    "### if you are not using a model in pipeline, you must use fit and transform ###\n",
    "X_train, y_train = lazy.fit_transform(train[preds], train[target])"
   ]
  },
  {
   "cell_type": "code",
   "execution_count": 17,
   "metadata": {},
   "outputs": [
    {
     "name": "stdout",
     "output_type": "stream",
     "text": [
      "    Time taken to transform dataset = 1 second(s)\n",
      "    Shape of transformed dataset: (1340, 11)\n"
     ]
    }
   ],
   "source": [
    "X_test = lazy.transform(test[preds])"
   ]
  },
  {
   "cell_type": "markdown",
   "metadata": {},
   "source": [
    "### SuloClassifier"
   ]
  },
  {
   "cell_type": "code",
   "execution_count": 18,
   "metadata": {},
   "outputs": [],
   "source": [
    "model = SuloClassifier()"
   ]
  },
  {
   "cell_type": "code",
   "execution_count": 19,
   "metadata": {},
   "outputs": [
    {
     "name": "stdout",
     "output_type": "stream",
     "text": [
      "Input data shapes: X = (12053, 11)\n",
      "    y shape = (12053,)\n",
      "No GPU available on this device. Using CPU for lightgbm and others.\n",
      "    Number of estimators used in SuloClassifier = 6\n"
     ]
    },
    {
     "name": "stderr",
     "output_type": "stream",
     "text": [
      "k-fold training:   0%|          | 0/6 [00:00<?, ?it/s]"
     ]
    },
    {
     "name": "stdout",
     "output_type": "stream",
     "text": [
      "[LightGBM] [Info] Auto-choosing col-wise multi-threading, the overhead of testing was 0.000647 seconds.\n",
      "You can set `force_col_wise=true` to remove the overhead.\n",
      "[LightGBM] [Info] Total Bins 1736\n",
      "[LightGBM] [Info] Number of data points in the train set: 10044, number of used features: 11\n",
      "[LightGBM] [Info] Start training from score -1.386693\n",
      "[LightGBM] [Info] Start training from score -1.379943\n",
      "[LightGBM] [Info] Start training from score -1.385498\n",
      "[LightGBM] [Info] Start training from score -1.393088\n",
      "[LightGBM] [Info] Auto-choosing row-wise multi-threading, the overhead of testing was 0.000143 seconds.\n",
      "You can set `force_row_wise=true` to remove the overhead.\n",
      "And if memory is not enough, you can set `force_col_wise=true`.\n",
      "[LightGBM] [Info] Total Bins 1736\n",
      "[LightGBM] [Info] Number of data points in the train set: 10044, number of used features: 11\n",
      "[LightGBM] [Info] Start training from score -1.386693\n",
      "[LightGBM] [Info] Start training from score -1.379943\n",
      "[LightGBM] [Info] Start training from score -1.385498\n",
      "[LightGBM] [Info] Start training from score -1.393088\n"
     ]
    },
    {
     "name": "stderr",
     "output_type": "stream",
     "text": [
      "k-fold training:  17%|█▋        | 1/6 [00:40<03:20, 40.10s/it]"
     ]
    },
    {
     "name": "stdout",
     "output_type": "stream",
     "text": [
      "[LightGBM] [Info] Auto-choosing col-wise multi-threading, the overhead of testing was 0.000401 seconds.\n",
      "You can set `force_col_wise=true` to remove the overhead.\n",
      "[LightGBM] [Info] Total Bins 1737\n",
      "[LightGBM] [Info] Number of data points in the train set: 10044, number of used features: 11\n",
      "[LightGBM] [Info] Start training from score -1.389086\n",
      "[LightGBM] [Info] Start training from score -1.385896\n",
      "[LightGBM] [Info] Start training from score -1.392687\n",
      "[LightGBM] [Info] Start training from score -1.377571\n"
     ]
    },
    {
     "name": "stderr",
     "output_type": "stream",
     "text": [
      "k-fold training:  33%|███▎      | 2/6 [00:40<01:07, 16.93s/it]"
     ]
    },
    {
     "name": "stdout",
     "output_type": "stream",
     "text": [
      "[LightGBM] [Info] Auto-choosing col-wise multi-threading, the overhead of testing was 0.000420 seconds.\n",
      "You can set `force_col_wise=true` to remove the overhead.\n",
      "[LightGBM] [Info] Total Bins 1736\n",
      "[LightGBM] [Info] Number of data points in the train set: 10044, number of used features: 11\n",
      "[LightGBM] [Info] Start training from score -1.379547\n",
      "[LightGBM] [Info] Start training from score -1.383511\n",
      "[LightGBM] [Info] Start training from score -1.391085\n",
      "[LightGBM] [Info] Start training from score -1.391085\n"
     ]
    },
    {
     "name": "stderr",
     "output_type": "stream",
     "text": [
      "k-fold training:  50%|█████     | 3/6 [00:41<00:28,  9.54s/it]"
     ]
    },
    {
     "name": "stdout",
     "output_type": "stream",
     "text": [
      "[LightGBM] [Info] Auto-choosing col-wise multi-threading, the overhead of testing was 0.000522 seconds.\n",
      "You can set `force_col_wise=true` to remove the overhead.\n",
      "[LightGBM] [Info] Total Bins 1735\n",
      "[LightGBM] [Info] Number of data points in the train set: 10044, number of used features: 11\n",
      "[LightGBM] [Info] Start training from score -1.392286\n",
      "[LightGBM] [Info] Start training from score -1.390685\n",
      "[LightGBM] [Info] Start training from score -1.377176\n",
      "[LightGBM] [Info] Start training from score -1.385100\n"
     ]
    },
    {
     "name": "stderr",
     "output_type": "stream",
     "text": [
      "k-fold training:  67%|██████▋   | 4/6 [00:42<00:12,  6.10s/it]"
     ]
    },
    {
     "name": "stdout",
     "output_type": "stream",
     "text": [
      "[LightGBM] [Info] Auto-choosing row-wise multi-threading, the overhead of testing was 0.000254 seconds.\n",
      "You can set `force_row_wise=true` to remove the overhead.\n",
      "And if memory is not enough, you can set `force_col_wise=true`.\n",
      "[LightGBM] [Info] Total Bins 1742\n",
      "[LightGBM] [Info] Number of data points in the train set: 10044, number of used features: 11\n",
      "[LightGBM] [Info] Start training from score -1.381130\n",
      "[LightGBM] [Info] Start training from score -1.389086\n",
      "[LightGBM] [Info] Start training from score -1.393489\n",
      "[LightGBM] [Info] Start training from score -1.381527\n"
     ]
    },
    {
     "name": "stderr",
     "output_type": "stream",
     "text": [
      "k-fold training:  83%|████████▎ | 5/6 [00:43<00:04,  4.21s/it]"
     ]
    },
    {
     "name": "stdout",
     "output_type": "stream",
     "text": [
      "[LightGBM] [Info] Auto-choosing col-wise multi-threading, the overhead of testing was 0.000508 seconds.\n",
      "You can set `force_col_wise=true` to remove the overhead.\n",
      "[LightGBM] [Info] Total Bins 1737\n",
      "[LightGBM] [Info] Number of data points in the train set: 10045, number of used features: 11\n",
      "[LightGBM] [Info] Start training from score -1.389585\n",
      "[LightGBM] [Info] Start training from score -1.391184\n",
      "[LightGBM] [Info] Start training from score -1.376487\n",
      "[LightGBM] [Info] Start training from score -1.387988\n"
     ]
    },
    {
     "name": "stderr",
     "output_type": "stream",
     "text": [
      "k-fold training: 100%|██████████| 6/6 [00:44<00:00,  7.33s/it]"
     ]
    },
    {
     "name": "stdout",
     "output_type": "stream",
     "text": [
      "Final balanced Accuracy of 6-estimator SuloClassifier: 74.8%\n",
      "Time Taken: 44 (seconds)\n"
     ]
    },
    {
     "name": "stderr",
     "output_type": "stream",
     "text": [
      "\n"
     ]
    }
   ],
   "source": [
    "model = model.fit(X_train, y_train)"
   ]
  },
  {
   "cell_type": "code",
   "execution_count": 20,
   "metadata": {},
   "outputs": [
    {
     "data": {
      "text/plain": [
       "array([3, 1, 3, ..., 1, 4, 2])"
      ]
     },
     "execution_count": 20,
     "metadata": {},
     "output_type": "execute_result"
    }
   ],
   "source": [
    "predictions = model.predict(X_test)\n",
    "predictions"
   ]
  },
  {
   "cell_type": "code",
   "execution_count": 21,
   "metadata": {},
   "outputs": [
    {
     "data": {
      "text/html": [
       "<div>\n",
       "<style scoped>\n",
       "    .dataframe tbody tr th:only-of-type {\n",
       "        vertical-align: middle;\n",
       "    }\n",
       "\n",
       "    .dataframe tbody tr th {\n",
       "        vertical-align: top;\n",
       "    }\n",
       "\n",
       "    .dataframe thead th {\n",
       "        text-align: right;\n",
       "    }\n",
       "</style>\n",
       "<table border=\"1\" class=\"dataframe\">\n",
       "  <thead>\n",
       "    <tr style=\"text-align: right;\">\n",
       "      <th></th>\n",
       "      <th>age</th>\n",
       "      <th>gender</th>\n",
       "      <th>height_cm</th>\n",
       "      <th>weight_kg</th>\n",
       "      <th>body fat_%</th>\n",
       "      <th>diastolic</th>\n",
       "      <th>systolic</th>\n",
       "      <th>gripForce</th>\n",
       "      <th>sit and bend forward_cm</th>\n",
       "      <th>sit-ups counts</th>\n",
       "      <th>broad jump_cm</th>\n",
       "      <th>class</th>\n",
       "      <th>classpredictions</th>\n",
       "    </tr>\n",
       "  </thead>\n",
       "  <tbody>\n",
       "    <tr>\n",
       "      <th>7357</th>\n",
       "      <td>60.0</td>\n",
       "      <td>0</td>\n",
       "      <td>172.4</td>\n",
       "      <td>66.5</td>\n",
       "      <td>26.5</td>\n",
       "      <td>78.0</td>\n",
       "      <td>118.0</td>\n",
       "      <td>38.4</td>\n",
       "      <td>10.9</td>\n",
       "      <td>21.0</td>\n",
       "      <td>161.0</td>\n",
       "      <td>3</td>\n",
       "      <td>3</td>\n",
       "    </tr>\n",
       "  </tbody>\n",
       "</table>\n",
       "</div>"
      ],
      "text/plain": [
       "       age  gender  height_cm  weight_kg  body fat_%  diastolic  systolic  \\\n",
       "7357  60.0       0      172.4       66.5        26.5       78.0     118.0   \n",
       "\n",
       "      gripForce  sit and bend forward_cm  sit-ups counts  broad jump_cm  \\\n",
       "7357       38.4                     10.9            21.0          161.0   \n",
       "\n",
       "      class  classpredictions  \n",
       "7357      3                 3  "
      ]
     },
     "execution_count": 21,
     "metadata": {},
     "output_type": "execute_result"
    }
   ],
   "source": [
    "test[target+'predictions'] = predictions\n",
    "test.head(1)"
   ]
  },
  {
   "cell_type": "code",
   "execution_count": 22,
   "metadata": {},
   "outputs": [
    {
     "name": "stdout",
     "output_type": "stream",
     "text": [
      "              precision    recall  f1-score   support\n",
      "\n",
      "           1       0.73      0.87      0.79       335\n",
      "           2       0.63      0.63      0.63       335\n",
      "           3       0.73      0.68      0.70       335\n",
      "           4       0.92      0.80      0.86       335\n",
      "\n",
      "    accuracy                           0.75      1340\n",
      "   macro avg       0.75      0.75      0.75      1340\n",
      "weighted avg       0.75      0.75      0.75      1340\n",
      "\n"
     ]
    }
   ],
   "source": [
    "print(classification_report(test[target].values, test[target+'predictions'].values))"
   ]
  },
  {
   "cell_type": "markdown",
   "metadata": {},
   "source": [
    "## Model - PyCaret"
   ]
  },
  {
   "cell_type": "code",
   "execution_count": 37,
   "metadata": {},
   "outputs": [
    {
     "data": {
      "text/html": [
       "<style type=\"text/css\">\n",
       "#T_a364d_row9_col1 {\n",
       "  background-color: lightgreen;\n",
       "}\n",
       "</style>\n",
       "<table id=\"T_a364d\">\n",
       "  <thead>\n",
       "    <tr>\n",
       "      <th class=\"blank level0\" >&nbsp;</th>\n",
       "      <th id=\"T_a364d_level0_col0\" class=\"col_heading level0 col0\" >Description</th>\n",
       "      <th id=\"T_a364d_level0_col1\" class=\"col_heading level0 col1\" >Value</th>\n",
       "    </tr>\n",
       "  </thead>\n",
       "  <tbody>\n",
       "    <tr>\n",
       "      <th id=\"T_a364d_level0_row0\" class=\"row_heading level0 row0\" >0</th>\n",
       "      <td id=\"T_a364d_row0_col0\" class=\"data row0 col0\" >Session id</td>\n",
       "      <td id=\"T_a364d_row0_col1\" class=\"data row0 col1\" >1</td>\n",
       "    </tr>\n",
       "    <tr>\n",
       "      <th id=\"T_a364d_level0_row1\" class=\"row_heading level0 row1\" >1</th>\n",
       "      <td id=\"T_a364d_row1_col0\" class=\"data row1 col0\" >Target</td>\n",
       "      <td id=\"T_a364d_row1_col1\" class=\"data row1 col1\" >class</td>\n",
       "    </tr>\n",
       "    <tr>\n",
       "      <th id=\"T_a364d_level0_row2\" class=\"row_heading level0 row2\" >2</th>\n",
       "      <td id=\"T_a364d_row2_col0\" class=\"data row2 col0\" >Target type</td>\n",
       "      <td id=\"T_a364d_row2_col1\" class=\"data row2 col1\" >Multiclass</td>\n",
       "    </tr>\n",
       "    <tr>\n",
       "      <th id=\"T_a364d_level0_row3\" class=\"row_heading level0 row3\" >3</th>\n",
       "      <td id=\"T_a364d_row3_col0\" class=\"data row3 col0\" >Target mapping</td>\n",
       "      <td id=\"T_a364d_row3_col1\" class=\"data row3 col1\" >1: 0, 2: 1, 3: 2, 4: 3</td>\n",
       "    </tr>\n",
       "    <tr>\n",
       "      <th id=\"T_a364d_level0_row4\" class=\"row_heading level0 row4\" >4</th>\n",
       "      <td id=\"T_a364d_row4_col0\" class=\"data row4 col0\" >Original data shape</td>\n",
       "      <td id=\"T_a364d_row4_col1\" class=\"data row4 col1\" >(12053, 12)</td>\n",
       "    </tr>\n",
       "    <tr>\n",
       "      <th id=\"T_a364d_level0_row5\" class=\"row_heading level0 row5\" >5</th>\n",
       "      <td id=\"T_a364d_row5_col0\" class=\"data row5 col0\" >Transformed data shape</td>\n",
       "      <td id=\"T_a364d_row5_col1\" class=\"data row5 col1\" >(12053, 12)</td>\n",
       "    </tr>\n",
       "    <tr>\n",
       "      <th id=\"T_a364d_level0_row6\" class=\"row_heading level0 row6\" >6</th>\n",
       "      <td id=\"T_a364d_row6_col0\" class=\"data row6 col0\" >Transformed train set shape</td>\n",
       "      <td id=\"T_a364d_row6_col1\" class=\"data row6 col1\" >(8437, 12)</td>\n",
       "    </tr>\n",
       "    <tr>\n",
       "      <th id=\"T_a364d_level0_row7\" class=\"row_heading level0 row7\" >7</th>\n",
       "      <td id=\"T_a364d_row7_col0\" class=\"data row7 col0\" >Transformed test set shape</td>\n",
       "      <td id=\"T_a364d_row7_col1\" class=\"data row7 col1\" >(3616, 12)</td>\n",
       "    </tr>\n",
       "    <tr>\n",
       "      <th id=\"T_a364d_level0_row8\" class=\"row_heading level0 row8\" >8</th>\n",
       "      <td id=\"T_a364d_row8_col0\" class=\"data row8 col0\" >Numeric features</td>\n",
       "      <td id=\"T_a364d_row8_col1\" class=\"data row8 col1\" >11</td>\n",
       "    </tr>\n",
       "    <tr>\n",
       "      <th id=\"T_a364d_level0_row9\" class=\"row_heading level0 row9\" >9</th>\n",
       "      <td id=\"T_a364d_row9_col0\" class=\"data row9 col0\" >Preprocess</td>\n",
       "      <td id=\"T_a364d_row9_col1\" class=\"data row9 col1\" >True</td>\n",
       "    </tr>\n",
       "    <tr>\n",
       "      <th id=\"T_a364d_level0_row10\" class=\"row_heading level0 row10\" >10</th>\n",
       "      <td id=\"T_a364d_row10_col0\" class=\"data row10 col0\" >Imputation type</td>\n",
       "      <td id=\"T_a364d_row10_col1\" class=\"data row10 col1\" >simple</td>\n",
       "    </tr>\n",
       "    <tr>\n",
       "      <th id=\"T_a364d_level0_row11\" class=\"row_heading level0 row11\" >11</th>\n",
       "      <td id=\"T_a364d_row11_col0\" class=\"data row11 col0\" >Numeric imputation</td>\n",
       "      <td id=\"T_a364d_row11_col1\" class=\"data row11 col1\" >mean</td>\n",
       "    </tr>\n",
       "    <tr>\n",
       "      <th id=\"T_a364d_level0_row12\" class=\"row_heading level0 row12\" >12</th>\n",
       "      <td id=\"T_a364d_row12_col0\" class=\"data row12 col0\" >Categorical imputation</td>\n",
       "      <td id=\"T_a364d_row12_col1\" class=\"data row12 col1\" >mode</td>\n",
       "    </tr>\n",
       "    <tr>\n",
       "      <th id=\"T_a364d_level0_row13\" class=\"row_heading level0 row13\" >13</th>\n",
       "      <td id=\"T_a364d_row13_col0\" class=\"data row13 col0\" >Fold Generator</td>\n",
       "      <td id=\"T_a364d_row13_col1\" class=\"data row13 col1\" >StratifiedKFold</td>\n",
       "    </tr>\n",
       "    <tr>\n",
       "      <th id=\"T_a364d_level0_row14\" class=\"row_heading level0 row14\" >14</th>\n",
       "      <td id=\"T_a364d_row14_col0\" class=\"data row14 col0\" >Fold Number</td>\n",
       "      <td id=\"T_a364d_row14_col1\" class=\"data row14 col1\" >10</td>\n",
       "    </tr>\n",
       "    <tr>\n",
       "      <th id=\"T_a364d_level0_row15\" class=\"row_heading level0 row15\" >15</th>\n",
       "      <td id=\"T_a364d_row15_col0\" class=\"data row15 col0\" >CPU Jobs</td>\n",
       "      <td id=\"T_a364d_row15_col1\" class=\"data row15 col1\" >-1</td>\n",
       "    </tr>\n",
       "    <tr>\n",
       "      <th id=\"T_a364d_level0_row16\" class=\"row_heading level0 row16\" >16</th>\n",
       "      <td id=\"T_a364d_row16_col0\" class=\"data row16 col0\" >Use GPU</td>\n",
       "      <td id=\"T_a364d_row16_col1\" class=\"data row16 col1\" >False</td>\n",
       "    </tr>\n",
       "    <tr>\n",
       "      <th id=\"T_a364d_level0_row17\" class=\"row_heading level0 row17\" >17</th>\n",
       "      <td id=\"T_a364d_row17_col0\" class=\"data row17 col0\" >Log Experiment</td>\n",
       "      <td id=\"T_a364d_row17_col1\" class=\"data row17 col1\" >False</td>\n",
       "    </tr>\n",
       "    <tr>\n",
       "      <th id=\"T_a364d_level0_row18\" class=\"row_heading level0 row18\" >18</th>\n",
       "      <td id=\"T_a364d_row18_col0\" class=\"data row18 col0\" >Experiment Name</td>\n",
       "      <td id=\"T_a364d_row18_col1\" class=\"data row18 col1\" >clf-default-name</td>\n",
       "    </tr>\n",
       "    <tr>\n",
       "      <th id=\"T_a364d_level0_row19\" class=\"row_heading level0 row19\" >19</th>\n",
       "      <td id=\"T_a364d_row19_col0\" class=\"data row19 col0\" >USI</td>\n",
       "      <td id=\"T_a364d_row19_col1\" class=\"data row19 col1\" >8ba3</td>\n",
       "    </tr>\n",
       "  </tbody>\n",
       "</table>\n"
      ],
      "text/plain": [
       "<pandas.io.formats.style.Styler at 0x1e9209380d0>"
      ]
     },
     "metadata": {},
     "output_type": "display_data"
    }
   ],
   "source": [
    "exp_clf = clf.setup(train, target = 'class',session_id=1)"
   ]
  },
  {
   "cell_type": "code",
   "execution_count": 38,
   "metadata": {},
   "outputs": [
    {
     "data": {
      "text/html": [
       "<div>\n",
       "<style scoped>\n",
       "    .dataframe tbody tr th:only-of-type {\n",
       "        vertical-align: middle;\n",
       "    }\n",
       "\n",
       "    .dataframe tbody tr th {\n",
       "        vertical-align: top;\n",
       "    }\n",
       "\n",
       "    .dataframe thead th {\n",
       "        text-align: right;\n",
       "    }\n",
       "</style>\n",
       "<table border=\"1\" class=\"dataframe\">\n",
       "  <thead>\n",
       "    <tr style=\"text-align: right;\">\n",
       "      <th></th>\n",
       "      <th></th>\n",
       "      <th></th>\n",
       "    </tr>\n",
       "    <tr>\n",
       "      <th></th>\n",
       "      <th></th>\n",
       "      <th></th>\n",
       "    </tr>\n",
       "  </thead>\n",
       "  <tbody>\n",
       "    <tr>\n",
       "      <th>Initiated</th>\n",
       "      <td>. . . . . . . . . . . . . . . . . .</td>\n",
       "      <td>17:45:57</td>\n",
       "    </tr>\n",
       "    <tr>\n",
       "      <th>Status</th>\n",
       "      <td>. . . . . . . . . . . . . . . . . .</td>\n",
       "      <td>Loading Estimator</td>\n",
       "    </tr>\n",
       "    <tr>\n",
       "      <th>Estimator</th>\n",
       "      <td>. . . . . . . . . . . . . . . . . .</td>\n",
       "      <td>Logistic Regression</td>\n",
       "    </tr>\n",
       "  </tbody>\n",
       "</table>\n",
       "</div>"
      ],
      "text/plain": [
       "                                                                   \n",
       "                                                                   \n",
       "Initiated  . . . . . . . . . . . . . . . . . .             17:45:57\n",
       "Status     . . . . . . . . . . . . . . . . . .    Loading Estimator\n",
       "Estimator  . . . . . . . . . . . . . . . . . .  Logistic Regression"
      ]
     },
     "metadata": {},
     "output_type": "display_data"
    },
    {
     "data": {
      "text/html": [
       "<style type=\"text/css\">\n",
       "#T_467ff th {\n",
       "  text-align: left;\n",
       "}\n",
       "#T_467ff_row0_col0, #T_467ff_row1_col0, #T_467ff_row1_col1, #T_467ff_row1_col2, #T_467ff_row1_col3, #T_467ff_row1_col4, #T_467ff_row1_col5, #T_467ff_row1_col6, #T_467ff_row1_col7, #T_467ff_row2_col0, #T_467ff_row2_col1, #T_467ff_row2_col2, #T_467ff_row2_col3, #T_467ff_row2_col4, #T_467ff_row2_col5, #T_467ff_row2_col6, #T_467ff_row2_col7, #T_467ff_row3_col0, #T_467ff_row3_col1, #T_467ff_row3_col2, #T_467ff_row3_col3, #T_467ff_row3_col4, #T_467ff_row3_col5, #T_467ff_row3_col6, #T_467ff_row3_col7, #T_467ff_row4_col0, #T_467ff_row4_col1, #T_467ff_row4_col2, #T_467ff_row4_col3, #T_467ff_row4_col4, #T_467ff_row4_col5, #T_467ff_row4_col6, #T_467ff_row4_col7, #T_467ff_row5_col0, #T_467ff_row5_col1, #T_467ff_row5_col2, #T_467ff_row5_col3, #T_467ff_row5_col4, #T_467ff_row5_col5, #T_467ff_row5_col6, #T_467ff_row5_col7 {\n",
       "  text-align: left;\n",
       "}\n",
       "#T_467ff_row0_col1, #T_467ff_row0_col2, #T_467ff_row0_col3, #T_467ff_row0_col4, #T_467ff_row0_col5, #T_467ff_row0_col6, #T_467ff_row0_col7 {\n",
       "  text-align: left;\n",
       "  background-color: yellow;\n",
       "}\n",
       "#T_467ff_row0_col8, #T_467ff_row1_col8, #T_467ff_row2_col8, #T_467ff_row4_col8, #T_467ff_row5_col8 {\n",
       "  text-align: left;\n",
       "  background-color: lightgrey;\n",
       "}\n",
       "#T_467ff_row3_col8 {\n",
       "  text-align: left;\n",
       "  background-color: yellow;\n",
       "  background-color: lightgrey;\n",
       "}\n",
       "</style>\n",
       "<table id=\"T_467ff\">\n",
       "  <thead>\n",
       "    <tr>\n",
       "      <th class=\"blank level0\" >&nbsp;</th>\n",
       "      <th id=\"T_467ff_level0_col0\" class=\"col_heading level0 col0\" >Model</th>\n",
       "      <th id=\"T_467ff_level0_col1\" class=\"col_heading level0 col1\" >Accuracy</th>\n",
       "      <th id=\"T_467ff_level0_col2\" class=\"col_heading level0 col2\" >AUC</th>\n",
       "      <th id=\"T_467ff_level0_col3\" class=\"col_heading level0 col3\" >Recall</th>\n",
       "      <th id=\"T_467ff_level0_col4\" class=\"col_heading level0 col4\" >Prec.</th>\n",
       "      <th id=\"T_467ff_level0_col5\" class=\"col_heading level0 col5\" >F1</th>\n",
       "      <th id=\"T_467ff_level0_col6\" class=\"col_heading level0 col6\" >Kappa</th>\n",
       "      <th id=\"T_467ff_level0_col7\" class=\"col_heading level0 col7\" >MCC</th>\n",
       "      <th id=\"T_467ff_level0_col8\" class=\"col_heading level0 col8\" >TT (Sec)</th>\n",
       "    </tr>\n",
       "  </thead>\n",
       "  <tbody>\n",
       "    <tr>\n",
       "      <th id=\"T_467ff_level0_row0\" class=\"row_heading level0 row0\" >lightgbm</th>\n",
       "      <td id=\"T_467ff_row0_col0\" class=\"data row0 col0\" >Light Gradient Boosting Machine</td>\n",
       "      <td id=\"T_467ff_row0_col1\" class=\"data row0 col1\" >0.7509</td>\n",
       "      <td id=\"T_467ff_row0_col2\" class=\"data row0 col2\" >0.9215</td>\n",
       "      <td id=\"T_467ff_row0_col3\" class=\"data row0 col3\" >0.7509</td>\n",
       "      <td id=\"T_467ff_row0_col4\" class=\"data row0 col4\" >0.7556</td>\n",
       "      <td id=\"T_467ff_row0_col5\" class=\"data row0 col5\" >0.7504</td>\n",
       "      <td id=\"T_467ff_row0_col6\" class=\"data row0 col6\" >0.6678</td>\n",
       "      <td id=\"T_467ff_row0_col7\" class=\"data row0 col7\" >0.6695</td>\n",
       "      <td id=\"T_467ff_row0_col8\" class=\"data row0 col8\" >0.5490</td>\n",
       "    </tr>\n",
       "    <tr>\n",
       "      <th id=\"T_467ff_level0_row1\" class=\"row_heading level0 row1\" >xgboost</th>\n",
       "      <td id=\"T_467ff_row1_col0\" class=\"data row1 col0\" >Extreme Gradient Boosting</td>\n",
       "      <td id=\"T_467ff_row1_col1\" class=\"data row1 col1\" >0.7471</td>\n",
       "      <td id=\"T_467ff_row1_col2\" class=\"data row1 col2\" >0.9173</td>\n",
       "      <td id=\"T_467ff_row1_col3\" class=\"data row1 col3\" >0.7471</td>\n",
       "      <td id=\"T_467ff_row1_col4\" class=\"data row1 col4\" >0.7519</td>\n",
       "      <td id=\"T_467ff_row1_col5\" class=\"data row1 col5\" >0.7472</td>\n",
       "      <td id=\"T_467ff_row1_col6\" class=\"data row1 col6\" >0.6628</td>\n",
       "      <td id=\"T_467ff_row1_col7\" class=\"data row1 col7\" >0.6642</td>\n",
       "      <td id=\"T_467ff_row1_col8\" class=\"data row1 col8\" >1.1410</td>\n",
       "    </tr>\n",
       "    <tr>\n",
       "      <th id=\"T_467ff_level0_row2\" class=\"row_heading level0 row2\" >rf</th>\n",
       "      <td id=\"T_467ff_row2_col0\" class=\"data row2 col0\" >Random Forest Classifier</td>\n",
       "      <td id=\"T_467ff_row2_col1\" class=\"data row2 col1\" >0.7300</td>\n",
       "      <td id=\"T_467ff_row2_col2\" class=\"data row2 col2\" >0.9110</td>\n",
       "      <td id=\"T_467ff_row2_col3\" class=\"data row2 col3\" >0.7300</td>\n",
       "      <td id=\"T_467ff_row2_col4\" class=\"data row2 col4\" >0.7333</td>\n",
       "      <td id=\"T_467ff_row2_col5\" class=\"data row2 col5\" >0.7294</td>\n",
       "      <td id=\"T_467ff_row2_col6\" class=\"data row2 col6\" >0.6400</td>\n",
       "      <td id=\"T_467ff_row2_col7\" class=\"data row2 col7\" >0.6414</td>\n",
       "      <td id=\"T_467ff_row2_col8\" class=\"data row2 col8\" >0.8480</td>\n",
       "    </tr>\n",
       "    <tr>\n",
       "      <th id=\"T_467ff_level0_row3\" class=\"row_heading level0 row3\" >dt</th>\n",
       "      <td id=\"T_467ff_row3_col0\" class=\"data row3 col0\" >Decision Tree Classifier</td>\n",
       "      <td id=\"T_467ff_row3_col1\" class=\"data row3 col1\" >0.6278</td>\n",
       "      <td id=\"T_467ff_row3_col2\" class=\"data row3 col2\" >0.7519</td>\n",
       "      <td id=\"T_467ff_row3_col3\" class=\"data row3 col3\" >0.6278</td>\n",
       "      <td id=\"T_467ff_row3_col4\" class=\"data row3 col4\" >0.6296</td>\n",
       "      <td id=\"T_467ff_row3_col5\" class=\"data row3 col5\" >0.6282</td>\n",
       "      <td id=\"T_467ff_row3_col6\" class=\"data row3 col6\" >0.5038</td>\n",
       "      <td id=\"T_467ff_row3_col7\" class=\"data row3 col7\" >0.5040</td>\n",
       "      <td id=\"T_467ff_row3_col8\" class=\"data row3 col8\" >0.0550</td>\n",
       "    </tr>\n",
       "    <tr>\n",
       "      <th id=\"T_467ff_level0_row4\" class=\"row_heading level0 row4\" >lr</th>\n",
       "      <td id=\"T_467ff_row4_col0\" class=\"data row4 col0\" >Logistic Regression</td>\n",
       "      <td id=\"T_467ff_row4_col1\" class=\"data row4 col1\" >0.6130</td>\n",
       "      <td id=\"T_467ff_row4_col2\" class=\"data row4 col2\" >0.8495</td>\n",
       "      <td id=\"T_467ff_row4_col3\" class=\"data row4 col3\" >0.6130</td>\n",
       "      <td id=\"T_467ff_row4_col4\" class=\"data row4 col4\" >0.6102</td>\n",
       "      <td id=\"T_467ff_row4_col5\" class=\"data row4 col5\" >0.6109</td>\n",
       "      <td id=\"T_467ff_row4_col6\" class=\"data row4 col6\" >0.4840</td>\n",
       "      <td id=\"T_467ff_row4_col7\" class=\"data row4 col7\" >0.4844</td>\n",
       "      <td id=\"T_467ff_row4_col8\" class=\"data row4 col8\" >1.3140</td>\n",
       "    </tr>\n",
       "    <tr>\n",
       "      <th id=\"T_467ff_level0_row5\" class=\"row_heading level0 row5\" >ada</th>\n",
       "      <td id=\"T_467ff_row5_col0\" class=\"data row5 col0\" >Ada Boost Classifier</td>\n",
       "      <td id=\"T_467ff_row5_col1\" class=\"data row5 col1\" >0.5970</td>\n",
       "      <td id=\"T_467ff_row5_col2\" class=\"data row5 col2\" >0.7246</td>\n",
       "      <td id=\"T_467ff_row5_col3\" class=\"data row5 col3\" >0.5970</td>\n",
       "      <td id=\"T_467ff_row5_col4\" class=\"data row5 col4\" >0.6056</td>\n",
       "      <td id=\"T_467ff_row5_col5\" class=\"data row5 col5\" >0.5984</td>\n",
       "      <td id=\"T_467ff_row5_col6\" class=\"data row5 col6\" >0.4627</td>\n",
       "      <td id=\"T_467ff_row5_col7\" class=\"data row5 col7\" >0.4639</td>\n",
       "      <td id=\"T_467ff_row5_col8\" class=\"data row5 col8\" >0.1750</td>\n",
       "    </tr>\n",
       "  </tbody>\n",
       "</table>\n"
      ],
      "text/plain": [
       "<pandas.io.formats.style.Styler at 0x1e920aa3d50>"
      ]
     },
     "metadata": {},
     "output_type": "display_data"
    },
    {
     "data": {
      "text/html": [],
      "text/plain": [
       "<IPython.core.display.HTML object>"
      ]
     },
     "metadata": {},
     "output_type": "display_data"
    }
   ],
   "source": [
    "best = clf.compare_models(include=['lr', 'dt', 'rf', 'ada', 'xgboost', 'lightgbm'])"
   ]
  },
  {
   "cell_type": "code",
   "execution_count": 43,
   "metadata": {},
   "outputs": [
    {
     "data": {
      "text/html": [],
      "text/plain": [
       "<IPython.core.display.HTML object>"
      ]
     },
     "metadata": {},
     "output_type": "display_data"
    },
    {
     "data": {
      "text/html": [
       "<style type=\"text/css\">\n",
       "#T_9f544_row10_col0, #T_9f544_row10_col1, #T_9f544_row10_col2, #T_9f544_row10_col3, #T_9f544_row10_col4, #T_9f544_row10_col5, #T_9f544_row10_col6 {\n",
       "  background: yellow;\n",
       "}\n",
       "</style>\n",
       "<table id=\"T_9f544\">\n",
       "  <thead>\n",
       "    <tr>\n",
       "      <th class=\"blank level0\" >&nbsp;</th>\n",
       "      <th id=\"T_9f544_level0_col0\" class=\"col_heading level0 col0\" >Accuracy</th>\n",
       "      <th id=\"T_9f544_level0_col1\" class=\"col_heading level0 col1\" >AUC</th>\n",
       "      <th id=\"T_9f544_level0_col2\" class=\"col_heading level0 col2\" >Recall</th>\n",
       "      <th id=\"T_9f544_level0_col3\" class=\"col_heading level0 col3\" >Prec.</th>\n",
       "      <th id=\"T_9f544_level0_col4\" class=\"col_heading level0 col4\" >F1</th>\n",
       "      <th id=\"T_9f544_level0_col5\" class=\"col_heading level0 col5\" >Kappa</th>\n",
       "      <th id=\"T_9f544_level0_col6\" class=\"col_heading level0 col6\" >MCC</th>\n",
       "    </tr>\n",
       "    <tr>\n",
       "      <th class=\"index_name level0\" >Fold</th>\n",
       "      <th class=\"blank col0\" >&nbsp;</th>\n",
       "      <th class=\"blank col1\" >&nbsp;</th>\n",
       "      <th class=\"blank col2\" >&nbsp;</th>\n",
       "      <th class=\"blank col3\" >&nbsp;</th>\n",
       "      <th class=\"blank col4\" >&nbsp;</th>\n",
       "      <th class=\"blank col5\" >&nbsp;</th>\n",
       "      <th class=\"blank col6\" >&nbsp;</th>\n",
       "    </tr>\n",
       "  </thead>\n",
       "  <tbody>\n",
       "    <tr>\n",
       "      <th id=\"T_9f544_level0_row0\" class=\"row_heading level0 row0\" >0</th>\n",
       "      <td id=\"T_9f544_row0_col0\" class=\"data row0 col0\" >0.7464</td>\n",
       "      <td id=\"T_9f544_row0_col1\" class=\"data row0 col1\" >0.9178</td>\n",
       "      <td id=\"T_9f544_row0_col2\" class=\"data row0 col2\" >0.7464</td>\n",
       "      <td id=\"T_9f544_row0_col3\" class=\"data row0 col3\" >0.7469</td>\n",
       "      <td id=\"T_9f544_row0_col4\" class=\"data row0 col4\" >0.7454</td>\n",
       "      <td id=\"T_9f544_row0_col5\" class=\"data row0 col5\" >0.6619</td>\n",
       "      <td id=\"T_9f544_row0_col6\" class=\"data row0 col6\" >0.6627</td>\n",
       "    </tr>\n",
       "    <tr>\n",
       "      <th id=\"T_9f544_level0_row1\" class=\"row_heading level0 row1\" >1</th>\n",
       "      <td id=\"T_9f544_row1_col0\" class=\"data row1 col0\" >0.7275</td>\n",
       "      <td id=\"T_9f544_row1_col1\" class=\"data row1 col1\" >0.9136</td>\n",
       "      <td id=\"T_9f544_row1_col2\" class=\"data row1 col2\" >0.7275</td>\n",
       "      <td id=\"T_9f544_row1_col3\" class=\"data row1 col3\" >0.7357</td>\n",
       "      <td id=\"T_9f544_row1_col4\" class=\"data row1 col4\" >0.7282</td>\n",
       "      <td id=\"T_9f544_row1_col5\" class=\"data row1 col5\" >0.6367</td>\n",
       "      <td id=\"T_9f544_row1_col6\" class=\"data row1 col6\" >0.6386</td>\n",
       "    </tr>\n",
       "    <tr>\n",
       "      <th id=\"T_9f544_level0_row2\" class=\"row_heading level0 row2\" >2</th>\n",
       "      <td id=\"T_9f544_row2_col0\" class=\"data row2 col0\" >0.7666</td>\n",
       "      <td id=\"T_9f544_row2_col1\" class=\"data row2 col1\" >0.9336</td>\n",
       "      <td id=\"T_9f544_row2_col2\" class=\"data row2 col2\" >0.7666</td>\n",
       "      <td id=\"T_9f544_row2_col3\" class=\"data row2 col3\" >0.7709</td>\n",
       "      <td id=\"T_9f544_row2_col4\" class=\"data row2 col4\" >0.7665</td>\n",
       "      <td id=\"T_9f544_row2_col5\" class=\"data row2 col5\" >0.6888</td>\n",
       "      <td id=\"T_9f544_row2_col6\" class=\"data row2 col6\" >0.6901</td>\n",
       "    </tr>\n",
       "    <tr>\n",
       "      <th id=\"T_9f544_level0_row3\" class=\"row_heading level0 row3\" >3</th>\n",
       "      <td id=\"T_9f544_row3_col0\" class=\"data row3 col0\" >0.7464</td>\n",
       "      <td id=\"T_9f544_row3_col1\" class=\"data row3 col1\" >0.9173</td>\n",
       "      <td id=\"T_9f544_row3_col2\" class=\"data row3 col2\" >0.7464</td>\n",
       "      <td id=\"T_9f544_row3_col3\" class=\"data row3 col3\" >0.7521</td>\n",
       "      <td id=\"T_9f544_row3_col4\" class=\"data row3 col4\" >0.7453</td>\n",
       "      <td id=\"T_9f544_row3_col5\" class=\"data row3 col5\" >0.6619</td>\n",
       "      <td id=\"T_9f544_row3_col6\" class=\"data row3 col6\" >0.6643</td>\n",
       "    </tr>\n",
       "    <tr>\n",
       "      <th id=\"T_9f544_level0_row4\" class=\"row_heading level0 row4\" >4</th>\n",
       "      <td id=\"T_9f544_row4_col0\" class=\"data row4 col0\" >0.7595</td>\n",
       "      <td id=\"T_9f544_row4_col1\" class=\"data row4 col1\" >0.9190</td>\n",
       "      <td id=\"T_9f544_row4_col2\" class=\"data row4 col2\" >0.7595</td>\n",
       "      <td id=\"T_9f544_row4_col3\" class=\"data row4 col3\" >0.7663</td>\n",
       "      <td id=\"T_9f544_row4_col4\" class=\"data row4 col4\" >0.7592</td>\n",
       "      <td id=\"T_9f544_row4_col5\" class=\"data row4 col5\" >0.6793</td>\n",
       "      <td id=\"T_9f544_row4_col6\" class=\"data row4 col6\" >0.6817</td>\n",
       "    </tr>\n",
       "    <tr>\n",
       "      <th id=\"T_9f544_level0_row5\" class=\"row_heading level0 row5\" >5</th>\n",
       "      <td id=\"T_9f544_row5_col0\" class=\"data row5 col0\" >0.7464</td>\n",
       "      <td id=\"T_9f544_row5_col1\" class=\"data row5 col1\" >0.9271</td>\n",
       "      <td id=\"T_9f544_row5_col2\" class=\"data row5 col2\" >0.7464</td>\n",
       "      <td id=\"T_9f544_row5_col3\" class=\"data row5 col3\" >0.7548</td>\n",
       "      <td id=\"T_9f544_row5_col4\" class=\"data row5 col4\" >0.7492</td>\n",
       "      <td id=\"T_9f544_row5_col5\" class=\"data row5 col5\" >0.6619</td>\n",
       "      <td id=\"T_9f544_row5_col6\" class=\"data row5 col6\" >0.6627</td>\n",
       "    </tr>\n",
       "    <tr>\n",
       "      <th id=\"T_9f544_level0_row6\" class=\"row_heading level0 row6\" >6</th>\n",
       "      <td id=\"T_9f544_row6_col0\" class=\"data row6 col0\" >0.7630</td>\n",
       "      <td id=\"T_9f544_row6_col1\" class=\"data row6 col1\" >0.9237</td>\n",
       "      <td id=\"T_9f544_row6_col2\" class=\"data row6 col2\" >0.7630</td>\n",
       "      <td id=\"T_9f544_row6_col3\" class=\"data row6 col3\" >0.7648</td>\n",
       "      <td id=\"T_9f544_row6_col4\" class=\"data row6 col4\" >0.7620</td>\n",
       "      <td id=\"T_9f544_row6_col5\" class=\"data row6 col5\" >0.6840</td>\n",
       "      <td id=\"T_9f544_row6_col6\" class=\"data row6 col6\" >0.6853</td>\n",
       "    </tr>\n",
       "    <tr>\n",
       "      <th id=\"T_9f544_level0_row7\" class=\"row_heading level0 row7\" >7</th>\n",
       "      <td id=\"T_9f544_row7_col0\" class=\"data row7 col0\" >0.7450</td>\n",
       "      <td id=\"T_9f544_row7_col1\" class=\"data row7 col1\" >0.9187</td>\n",
       "      <td id=\"T_9f544_row7_col2\" class=\"data row7 col2\" >0.7450</td>\n",
       "      <td id=\"T_9f544_row7_col3\" class=\"data row7 col3\" >0.7482</td>\n",
       "      <td id=\"T_9f544_row7_col4\" class=\"data row7 col4\" >0.7447</td>\n",
       "      <td id=\"T_9f544_row7_col5\" class=\"data row7 col5\" >0.6600</td>\n",
       "      <td id=\"T_9f544_row7_col6\" class=\"data row7 col6\" >0.6611</td>\n",
       "    </tr>\n",
       "    <tr>\n",
       "      <th id=\"T_9f544_level0_row8\" class=\"row_heading level0 row8\" >8</th>\n",
       "      <td id=\"T_9f544_row8_col0\" class=\"data row8 col0\" >0.7628</td>\n",
       "      <td id=\"T_9f544_row8_col1\" class=\"data row8 col1\" >0.9266</td>\n",
       "      <td id=\"T_9f544_row8_col2\" class=\"data row8 col2\" >0.7628</td>\n",
       "      <td id=\"T_9f544_row8_col3\" class=\"data row8 col3\" >0.7644</td>\n",
       "      <td id=\"T_9f544_row8_col4\" class=\"data row8 col4\" >0.7606</td>\n",
       "      <td id=\"T_9f544_row8_col5\" class=\"data row8 col5\" >0.6837</td>\n",
       "      <td id=\"T_9f544_row8_col6\" class=\"data row8 col6\" >0.6855</td>\n",
       "    </tr>\n",
       "    <tr>\n",
       "      <th id=\"T_9f544_level0_row9\" class=\"row_heading level0 row9\" >9</th>\n",
       "      <td id=\"T_9f544_row9_col0\" class=\"data row9 col0\" >0.7450</td>\n",
       "      <td id=\"T_9f544_row9_col1\" class=\"data row9 col1\" >0.9174</td>\n",
       "      <td id=\"T_9f544_row9_col2\" class=\"data row9 col2\" >0.7450</td>\n",
       "      <td id=\"T_9f544_row9_col3\" class=\"data row9 col3\" >0.7516</td>\n",
       "      <td id=\"T_9f544_row9_col4\" class=\"data row9 col4\" >0.7429</td>\n",
       "      <td id=\"T_9f544_row9_col5\" class=\"data row9 col5\" >0.6599</td>\n",
       "      <td id=\"T_9f544_row9_col6\" class=\"data row9 col6\" >0.6633</td>\n",
       "    </tr>\n",
       "    <tr>\n",
       "      <th id=\"T_9f544_level0_row10\" class=\"row_heading level0 row10\" >Mean</th>\n",
       "      <td id=\"T_9f544_row10_col0\" class=\"data row10 col0\" >0.7509</td>\n",
       "      <td id=\"T_9f544_row10_col1\" class=\"data row10 col1\" >0.9215</td>\n",
       "      <td id=\"T_9f544_row10_col2\" class=\"data row10 col2\" >0.7509</td>\n",
       "      <td id=\"T_9f544_row10_col3\" class=\"data row10 col3\" >0.7556</td>\n",
       "      <td id=\"T_9f544_row10_col4\" class=\"data row10 col4\" >0.7504</td>\n",
       "      <td id=\"T_9f544_row10_col5\" class=\"data row10 col5\" >0.6678</td>\n",
       "      <td id=\"T_9f544_row10_col6\" class=\"data row10 col6\" >0.6695</td>\n",
       "    </tr>\n",
       "    <tr>\n",
       "      <th id=\"T_9f544_level0_row11\" class=\"row_heading level0 row11\" >Std</th>\n",
       "      <td id=\"T_9f544_row11_col0\" class=\"data row11 col0\" >0.0113</td>\n",
       "      <td id=\"T_9f544_row11_col1\" class=\"data row11 col1\" >0.0058</td>\n",
       "      <td id=\"T_9f544_row11_col2\" class=\"data row11 col2\" >0.0113</td>\n",
       "      <td id=\"T_9f544_row11_col3\" class=\"data row11 col3\" >0.0103</td>\n",
       "      <td id=\"T_9f544_row11_col4\" class=\"data row11 col4\" >0.0110</td>\n",
       "      <td id=\"T_9f544_row11_col5\" class=\"data row11 col5\" >0.0151</td>\n",
       "      <td id=\"T_9f544_row11_col6\" class=\"data row11 col6\" >0.0150</td>\n",
       "    </tr>\n",
       "  </tbody>\n",
       "</table>\n"
      ],
      "text/plain": [
       "<pandas.io.formats.style.Styler at 0x1e920af8390>"
      ]
     },
     "metadata": {},
     "output_type": "display_data"
    },
    {
     "data": {
      "text/html": [],
      "text/plain": [
       "<IPython.core.display.HTML object>"
      ]
     },
     "metadata": {},
     "output_type": "display_data"
    }
   ],
   "source": [
    "lgbm = clf.create_model('lightgbm')"
   ]
  },
  {
   "cell_type": "code",
   "execution_count": 44,
   "metadata": {},
   "outputs": [
    {
     "data": {
      "text/html": [
       "<div>\n",
       "<style scoped>\n",
       "    .dataframe tbody tr th:only-of-type {\n",
       "        vertical-align: middle;\n",
       "    }\n",
       "\n",
       "    .dataframe tbody tr th {\n",
       "        vertical-align: top;\n",
       "    }\n",
       "\n",
       "    .dataframe thead th {\n",
       "        text-align: right;\n",
       "    }\n",
       "</style>\n",
       "<table border=\"1\" class=\"dataframe\">\n",
       "  <thead>\n",
       "    <tr style=\"text-align: right;\">\n",
       "      <th></th>\n",
       "      <th></th>\n",
       "      <th></th>\n",
       "    </tr>\n",
       "    <tr>\n",
       "      <th></th>\n",
       "      <th></th>\n",
       "      <th></th>\n",
       "    </tr>\n",
       "  </thead>\n",
       "  <tbody>\n",
       "    <tr>\n",
       "      <th>Initiated</th>\n",
       "      <td>. . . . . . . . . . . . . . . . . .</td>\n",
       "      <td>17:49:14</td>\n",
       "    </tr>\n",
       "    <tr>\n",
       "      <th>Status</th>\n",
       "      <td>. . . . . . . . . . . . . . . . . .</td>\n",
       "      <td>Searching Hyperparameters</td>\n",
       "    </tr>\n",
       "    <tr>\n",
       "      <th>Estimator</th>\n",
       "      <td>. . . . . . . . . . . . . . . . . .</td>\n",
       "      <td>Light Gradient Boosting Machine</td>\n",
       "    </tr>\n",
       "  </tbody>\n",
       "</table>\n",
       "</div>"
      ],
      "text/plain": [
       "                                                \\\n",
       "                                                 \n",
       "Initiated  . . . . . . . . . . . . . . . . . .   \n",
       "Status     . . . . . . . . . . . . . . . . . .   \n",
       "Estimator  . . . . . . . . . . . . . . . . . .   \n",
       "\n",
       "                                            \n",
       "                                            \n",
       "Initiated                         17:49:14  \n",
       "Status           Searching Hyperparameters  \n",
       "Estimator  Light Gradient Boosting Machine  "
      ]
     },
     "metadata": {},
     "output_type": "display_data"
    },
    {
     "data": {
      "text/html": [
       "<style type=\"text/css\">\n",
       "#T_9aaec_row10_col0, #T_9aaec_row10_col1, #T_9aaec_row10_col2, #T_9aaec_row10_col3, #T_9aaec_row10_col4, #T_9aaec_row10_col5, #T_9aaec_row10_col6 {\n",
       "  background: yellow;\n",
       "}\n",
       "</style>\n",
       "<table id=\"T_9aaec\">\n",
       "  <thead>\n",
       "    <tr>\n",
       "      <th class=\"blank level0\" >&nbsp;</th>\n",
       "      <th id=\"T_9aaec_level0_col0\" class=\"col_heading level0 col0\" >Accuracy</th>\n",
       "      <th id=\"T_9aaec_level0_col1\" class=\"col_heading level0 col1\" >AUC</th>\n",
       "      <th id=\"T_9aaec_level0_col2\" class=\"col_heading level0 col2\" >Recall</th>\n",
       "      <th id=\"T_9aaec_level0_col3\" class=\"col_heading level0 col3\" >Prec.</th>\n",
       "      <th id=\"T_9aaec_level0_col4\" class=\"col_heading level0 col4\" >F1</th>\n",
       "      <th id=\"T_9aaec_level0_col5\" class=\"col_heading level0 col5\" >Kappa</th>\n",
       "      <th id=\"T_9aaec_level0_col6\" class=\"col_heading level0 col6\" >MCC</th>\n",
       "    </tr>\n",
       "    <tr>\n",
       "      <th class=\"index_name level0\" >Fold</th>\n",
       "      <th class=\"blank col0\" >&nbsp;</th>\n",
       "      <th class=\"blank col1\" >&nbsp;</th>\n",
       "      <th class=\"blank col2\" >&nbsp;</th>\n",
       "      <th class=\"blank col3\" >&nbsp;</th>\n",
       "      <th class=\"blank col4\" >&nbsp;</th>\n",
       "      <th class=\"blank col5\" >&nbsp;</th>\n",
       "      <th class=\"blank col6\" >&nbsp;</th>\n",
       "    </tr>\n",
       "  </thead>\n",
       "  <tbody>\n",
       "    <tr>\n",
       "      <th id=\"T_9aaec_level0_row0\" class=\"row_heading level0 row0\" >0</th>\n",
       "      <td id=\"T_9aaec_row0_col0\" class=\"data row0 col0\" >0.7168</td>\n",
       "      <td id=\"T_9aaec_row0_col1\" class=\"data row0 col1\" >0.9083</td>\n",
       "      <td id=\"T_9aaec_row0_col2\" class=\"data row0 col2\" >0.7168</td>\n",
       "      <td id=\"T_9aaec_row0_col3\" class=\"data row0 col3\" >0.7179</td>\n",
       "      <td id=\"T_9aaec_row0_col4\" class=\"data row0 col4\" >0.7167</td>\n",
       "      <td id=\"T_9aaec_row0_col5\" class=\"data row0 col5\" >0.6224</td>\n",
       "      <td id=\"T_9aaec_row0_col6\" class=\"data row0 col6\" >0.6228</td>\n",
       "    </tr>\n",
       "    <tr>\n",
       "      <th id=\"T_9aaec_level0_row1\" class=\"row_heading level0 row1\" >1</th>\n",
       "      <td id=\"T_9aaec_row1_col0\" class=\"data row1 col0\" >0.7062</td>\n",
       "      <td id=\"T_9aaec_row1_col1\" class=\"data row1 col1\" >0.8994</td>\n",
       "      <td id=\"T_9aaec_row1_col2\" class=\"data row1 col2\" >0.7062</td>\n",
       "      <td id=\"T_9aaec_row1_col3\" class=\"data row1 col3\" >0.7144</td>\n",
       "      <td id=\"T_9aaec_row1_col4\" class=\"data row1 col4\" >0.7077</td>\n",
       "      <td id=\"T_9aaec_row1_col5\" class=\"data row1 col5\" >0.6082</td>\n",
       "      <td id=\"T_9aaec_row1_col6\" class=\"data row1 col6\" >0.6097</td>\n",
       "    </tr>\n",
       "    <tr>\n",
       "      <th id=\"T_9aaec_level0_row2\" class=\"row_heading level0 row2\" >2</th>\n",
       "      <td id=\"T_9aaec_row2_col0\" class=\"data row2 col0\" >0.7524</td>\n",
       "      <td id=\"T_9aaec_row2_col1\" class=\"data row2 col1\" >0.9285</td>\n",
       "      <td id=\"T_9aaec_row2_col2\" class=\"data row2 col2\" >0.7524</td>\n",
       "      <td id=\"T_9aaec_row2_col3\" class=\"data row2 col3\" >0.7549</td>\n",
       "      <td id=\"T_9aaec_row2_col4\" class=\"data row2 col4\" >0.7518</td>\n",
       "      <td id=\"T_9aaec_row2_col5\" class=\"data row2 col5\" >0.6698</td>\n",
       "      <td id=\"T_9aaec_row2_col6\" class=\"data row2 col6\" >0.6709</td>\n",
       "    </tr>\n",
       "    <tr>\n",
       "      <th id=\"T_9aaec_level0_row3\" class=\"row_heading level0 row3\" >3</th>\n",
       "      <td id=\"T_9aaec_row3_col0\" class=\"data row3 col0\" >0.7299</td>\n",
       "      <td id=\"T_9aaec_row3_col1\" class=\"data row3 col1\" >0.9091</td>\n",
       "      <td id=\"T_9aaec_row3_col2\" class=\"data row3 col2\" >0.7299</td>\n",
       "      <td id=\"T_9aaec_row3_col3\" class=\"data row3 col3\" >0.7320</td>\n",
       "      <td id=\"T_9aaec_row3_col4\" class=\"data row3 col4\" >0.7284</td>\n",
       "      <td id=\"T_9aaec_row3_col5\" class=\"data row3 col5\" >0.6398</td>\n",
       "      <td id=\"T_9aaec_row3_col6\" class=\"data row3 col6\" >0.6413</td>\n",
       "    </tr>\n",
       "    <tr>\n",
       "      <th id=\"T_9aaec_level0_row4\" class=\"row_heading level0 row4\" >4</th>\n",
       "      <td id=\"T_9aaec_row4_col0\" class=\"data row4 col0\" >0.7334</td>\n",
       "      <td id=\"T_9aaec_row4_col1\" class=\"data row4 col1\" >0.9144</td>\n",
       "      <td id=\"T_9aaec_row4_col2\" class=\"data row4 col2\" >0.7334</td>\n",
       "      <td id=\"T_9aaec_row4_col3\" class=\"data row4 col3\" >0.7361</td>\n",
       "      <td id=\"T_9aaec_row4_col4\" class=\"data row4 col4\" >0.7315</td>\n",
       "      <td id=\"T_9aaec_row4_col5\" class=\"data row4 col5\" >0.6445</td>\n",
       "      <td id=\"T_9aaec_row4_col6\" class=\"data row4 col6\" >0.6467</td>\n",
       "    </tr>\n",
       "    <tr>\n",
       "      <th id=\"T_9aaec_level0_row5\" class=\"row_heading level0 row5\" >5</th>\n",
       "      <td id=\"T_9aaec_row5_col0\" class=\"data row5 col0\" >0.7275</td>\n",
       "      <td id=\"T_9aaec_row5_col1\" class=\"data row5 col1\" >0.9184</td>\n",
       "      <td id=\"T_9aaec_row5_col2\" class=\"data row5 col2\" >0.7275</td>\n",
       "      <td id=\"T_9aaec_row5_col3\" class=\"data row5 col3\" >0.7344</td>\n",
       "      <td id=\"T_9aaec_row5_col4\" class=\"data row5 col4\" >0.7299</td>\n",
       "      <td id=\"T_9aaec_row5_col5\" class=\"data row5 col5\" >0.6367</td>\n",
       "      <td id=\"T_9aaec_row5_col6\" class=\"data row5 col6\" >0.6373</td>\n",
       "    </tr>\n",
       "    <tr>\n",
       "      <th id=\"T_9aaec_level0_row6\" class=\"row_heading level0 row6\" >6</th>\n",
       "      <td id=\"T_9aaec_row6_col0\" class=\"data row6 col0\" >0.7322</td>\n",
       "      <td id=\"T_9aaec_row6_col1\" class=\"data row6 col1\" >0.9151</td>\n",
       "      <td id=\"T_9aaec_row6_col2\" class=\"data row6 col2\" >0.7322</td>\n",
       "      <td id=\"T_9aaec_row6_col3\" class=\"data row6 col3\" >0.7334</td>\n",
       "      <td id=\"T_9aaec_row6_col4\" class=\"data row6 col4\" >0.7317</td>\n",
       "      <td id=\"T_9aaec_row6_col5\" class=\"data row6 col5\" >0.6430</td>\n",
       "      <td id=\"T_9aaec_row6_col6\" class=\"data row6 col6\" >0.6437</td>\n",
       "    </tr>\n",
       "    <tr>\n",
       "      <th id=\"T_9aaec_level0_row7\" class=\"row_heading level0 row7\" >7</th>\n",
       "      <td id=\"T_9aaec_row7_col0\" class=\"data row7 col0\" >0.7153</td>\n",
       "      <td id=\"T_9aaec_row7_col1\" class=\"data row7 col1\" >0.9077</td>\n",
       "      <td id=\"T_9aaec_row7_col2\" class=\"data row7 col2\" >0.7153</td>\n",
       "      <td id=\"T_9aaec_row7_col3\" class=\"data row7 col3\" >0.7166</td>\n",
       "      <td id=\"T_9aaec_row7_col4\" class=\"data row7 col4\" >0.7146</td>\n",
       "      <td id=\"T_9aaec_row7_col5\" class=\"data row7 col5\" >0.6204</td>\n",
       "      <td id=\"T_9aaec_row7_col6\" class=\"data row7 col6\" >0.6213</td>\n",
       "    </tr>\n",
       "    <tr>\n",
       "      <th id=\"T_9aaec_level0_row8\" class=\"row_heading level0 row8\" >8</th>\n",
       "      <td id=\"T_9aaec_row8_col0\" class=\"data row8 col0\" >0.7450</td>\n",
       "      <td id=\"T_9aaec_row8_col1\" class=\"data row8 col1\" >0.9179</td>\n",
       "      <td id=\"T_9aaec_row8_col2\" class=\"data row8 col2\" >0.7450</td>\n",
       "      <td id=\"T_9aaec_row8_col3\" class=\"data row8 col3\" >0.7452</td>\n",
       "      <td id=\"T_9aaec_row8_col4\" class=\"data row8 col4\" >0.7424</td>\n",
       "      <td id=\"T_9aaec_row8_col5\" class=\"data row8 col5\" >0.6599</td>\n",
       "      <td id=\"T_9aaec_row8_col6\" class=\"data row8 col6\" >0.6616</td>\n",
       "    </tr>\n",
       "    <tr>\n",
       "      <th id=\"T_9aaec_level0_row9\" class=\"row_heading level0 row9\" >9</th>\n",
       "      <td id=\"T_9aaec_row9_col0\" class=\"data row9 col0\" >0.7438</td>\n",
       "      <td id=\"T_9aaec_row9_col1\" class=\"data row9 col1\" >0.9110</td>\n",
       "      <td id=\"T_9aaec_row9_col2\" class=\"data row9 col2\" >0.7438</td>\n",
       "      <td id=\"T_9aaec_row9_col3\" class=\"data row9 col3\" >0.7504</td>\n",
       "      <td id=\"T_9aaec_row9_col4\" class=\"data row9 col4\" >0.7421</td>\n",
       "      <td id=\"T_9aaec_row9_col5\" class=\"data row9 col5\" >0.6584</td>\n",
       "      <td id=\"T_9aaec_row9_col6\" class=\"data row9 col6\" >0.6615</td>\n",
       "    </tr>\n",
       "    <tr>\n",
       "      <th id=\"T_9aaec_level0_row10\" class=\"row_heading level0 row10\" >Mean</th>\n",
       "      <td id=\"T_9aaec_row10_col0\" class=\"data row10 col0\" >0.7302</td>\n",
       "      <td id=\"T_9aaec_row10_col1\" class=\"data row10 col1\" >0.9130</td>\n",
       "      <td id=\"T_9aaec_row10_col2\" class=\"data row10 col2\" >0.7302</td>\n",
       "      <td id=\"T_9aaec_row10_col3\" class=\"data row10 col3\" >0.7335</td>\n",
       "      <td id=\"T_9aaec_row10_col4\" class=\"data row10 col4\" >0.7297</td>\n",
       "      <td id=\"T_9aaec_row10_col5\" class=\"data row10 col5\" >0.6403</td>\n",
       "      <td id=\"T_9aaec_row10_col6\" class=\"data row10 col6\" >0.6417</td>\n",
       "    </tr>\n",
       "    <tr>\n",
       "      <th id=\"T_9aaec_level0_row11\" class=\"row_heading level0 row11\" >Std</th>\n",
       "      <td id=\"T_9aaec_row11_col0\" class=\"data row11 col0\" >0.0138</td>\n",
       "      <td id=\"T_9aaec_row11_col1\" class=\"data row11 col1\" >0.0074</td>\n",
       "      <td id=\"T_9aaec_row11_col2\" class=\"data row11 col2\" >0.0138</td>\n",
       "      <td id=\"T_9aaec_row11_col3\" class=\"data row11 col3\" >0.0134</td>\n",
       "      <td id=\"T_9aaec_row11_col4\" class=\"data row11 col4\" >0.0130</td>\n",
       "      <td id=\"T_9aaec_row11_col5\" class=\"data row11 col5\" >0.0183</td>\n",
       "      <td id=\"T_9aaec_row11_col6\" class=\"data row11 col6\" >0.0187</td>\n",
       "    </tr>\n",
       "  </tbody>\n",
       "</table>\n"
      ],
      "text/plain": [
       "<pandas.io.formats.style.Styler at 0x1e920351990>"
      ]
     },
     "metadata": {},
     "output_type": "display_data"
    },
    {
     "data": {
      "text/html": [],
      "text/plain": [
       "<IPython.core.display.HTML object>"
      ]
     },
     "metadata": {},
     "output_type": "display_data"
    },
    {
     "name": "stdout",
     "output_type": "stream",
     "text": [
      "Fitting 10 folds for each of 10 candidates, totalling 100 fits\n",
      "Original model was better than the tuned model, hence it will be returned. NOTE: The display metrics are for the tuned model (not the original one).\n"
     ]
    }
   ],
   "source": [
    "tuned_lgbm = clf.tune_model(lgbm)"
   ]
  },
  {
   "cell_type": "code",
   "execution_count": 45,
   "metadata": {},
   "outputs": [
    {
     "data": {
      "text/html": [],
      "text/plain": [
       "<IPython.core.display.HTML object>"
      ]
     },
     "metadata": {},
     "output_type": "display_data"
    },
    {
     "data": {
      "image/png": "[encoded data removed]",
      "text/plain": [
       "<Figure size 800x550 with 1 Axes>"
      ]
     },
     "metadata": {},
     "output_type": "display_data"
    }
   ],
   "source": [
    "clf.plot_model(lgbm)"
   ]
  },
  {
   "cell_type": "code",
   "execution_count": 50,
   "metadata": {},
   "outputs": [
    {
     "data": {
      "text/html": [],
      "text/plain": [
       "<IPython.core.display.HTML object>"
      ]
     },
     "metadata": {},
     "output_type": "display_data"
    },
    {
     "data": {
      "image/png": "[encoded data removed]",
      "text/plain": [
       "<Figure size 800x550 with 1 Axes>"
      ]
     },
     "metadata": {},
     "output_type": "display_data"
    }
   ],
   "source": [
    "plot_model(lgbm, plot = 'confusion_matrix') "
   ]
  },
  {
   "cell_type": "code",
   "execution_count": 46,
   "metadata": {},
   "outputs": [],
   "source": [
    "final_lgbm = clf.finalize_model(tuned_lgbm)"
   ]
  },
  {
   "cell_type": "code",
   "execution_count": 47,
   "metadata": {},
   "outputs": [
    {
     "data": {
      "text/html": [
       "<style type=\"text/css\">\n",
       "</style>\n",
       "<table id=\"T_b6bde\">\n",
       "  <thead>\n",
       "    <tr>\n",
       "      <th class=\"blank level0\" >&nbsp;</th>\n",
       "      <th id=\"T_b6bde_level0_col0\" class=\"col_heading level0 col0\" >Model</th>\n",
       "      <th id=\"T_b6bde_level0_col1\" class=\"col_heading level0 col1\" >Accuracy</th>\n",
       "      <th id=\"T_b6bde_level0_col2\" class=\"col_heading level0 col2\" >AUC</th>\n",
       "      <th id=\"T_b6bde_level0_col3\" class=\"col_heading level0 col3\" >Recall</th>\n",
       "      <th id=\"T_b6bde_level0_col4\" class=\"col_heading level0 col4\" >Prec.</th>\n",
       "      <th id=\"T_b6bde_level0_col5\" class=\"col_heading level0 col5\" >F1</th>\n",
       "      <th id=\"T_b6bde_level0_col6\" class=\"col_heading level0 col6\" >Kappa</th>\n",
       "      <th id=\"T_b6bde_level0_col7\" class=\"col_heading level0 col7\" >MCC</th>\n",
       "    </tr>\n",
       "  </thead>\n",
       "  <tbody>\n",
       "    <tr>\n",
       "      <th id=\"T_b6bde_level0_row0\" class=\"row_heading level0 row0\" >0</th>\n",
       "      <td id=\"T_b6bde_row0_col0\" class=\"data row0 col0\" >Light Gradient Boosting Machine</td>\n",
       "      <td id=\"T_b6bde_row0_col1\" class=\"data row0 col1\" >0.7418</td>\n",
       "      <td id=\"T_b6bde_row0_col2\" class=\"data row0 col2\" >0.9218</td>\n",
       "      <td id=\"T_b6bde_row0_col3\" class=\"data row0 col3\" >0.7418</td>\n",
       "      <td id=\"T_b6bde_row0_col4\" class=\"data row0 col4\" >0.7498</td>\n",
       "      <td id=\"T_b6bde_row0_col5\" class=\"data row0 col5\" >0.7416</td>\n",
       "      <td id=\"T_b6bde_row0_col6\" class=\"data row0 col6\" >0.6557</td>\n",
       "      <td id=\"T_b6bde_row0_col7\" class=\"data row0 col7\" >0.6582</td>\n",
       "    </tr>\n",
       "  </tbody>\n",
       "</table>\n"
      ],
      "text/plain": [
       "<pandas.io.formats.style.Styler at 0x1e9181c3050>"
      ]
     },
     "metadata": {},
     "output_type": "display_data"
    },
    {
     "data": {
      "text/html": [
       "<div>\n",
       "<style scoped>\n",
       "    .dataframe tbody tr th:only-of-type {\n",
       "        vertical-align: middle;\n",
       "    }\n",
       "\n",
       "    .dataframe tbody tr th {\n",
       "        vertical-align: top;\n",
       "    }\n",
       "\n",
       "    .dataframe thead th {\n",
       "        text-align: right;\n",
       "    }\n",
       "</style>\n",
       "<table border=\"1\" class=\"dataframe\">\n",
       "  <thead>\n",
       "    <tr style=\"text-align: right;\">\n",
       "      <th></th>\n",
       "      <th>age</th>\n",
       "      <th>gender</th>\n",
       "      <th>height_cm</th>\n",
       "      <th>weight_kg</th>\n",
       "      <th>body fat_%</th>\n",
       "      <th>diastolic</th>\n",
       "      <th>systolic</th>\n",
       "      <th>gripForce</th>\n",
       "      <th>sit and bend forward_cm</th>\n",
       "      <th>sit-ups counts</th>\n",
       "      <th>broad jump_cm</th>\n",
       "      <th>class</th>\n",
       "      <th>prediction_label</th>\n",
       "      <th>prediction_score</th>\n",
       "    </tr>\n",
       "  </thead>\n",
       "  <tbody>\n",
       "    <tr>\n",
       "      <th>7357</th>\n",
       "      <td>60.0</td>\n",
       "      <td>0</td>\n",
       "      <td>172.399994</td>\n",
       "      <td>66.500000</td>\n",
       "      <td>26.500000</td>\n",
       "      <td>78.0</td>\n",
       "      <td>118.0</td>\n",
       "      <td>38.400002</td>\n",
       "      <td>10.9</td>\n",
       "      <td>21.0</td>\n",
       "      <td>161.0</td>\n",
       "      <td>3</td>\n",
       "      <td>3</td>\n",
       "      <td>0.8826</td>\n",
       "    </tr>\n",
       "    <tr>\n",
       "      <th>13347</th>\n",
       "      <td>41.0</td>\n",
       "      <td>1</td>\n",
       "      <td>161.399994</td>\n",
       "      <td>67.900002</td>\n",
       "      <td>33.099998</td>\n",
       "      <td>76.0</td>\n",
       "      <td>119.0</td>\n",
       "      <td>34.900002</td>\n",
       "      <td>21.0</td>\n",
       "      <td>33.0</td>\n",
       "      <td>150.0</td>\n",
       "      <td>4</td>\n",
       "      <td>2</td>\n",
       "      <td>0.3889</td>\n",
       "    </tr>\n",
       "    <tr>\n",
       "      <th>11854</th>\n",
       "      <td>35.0</td>\n",
       "      <td>0</td>\n",
       "      <td>181.300003</td>\n",
       "      <td>78.599998</td>\n",
       "      <td>21.400000</td>\n",
       "      <td>91.0</td>\n",
       "      <td>137.0</td>\n",
       "      <td>41.400002</td>\n",
       "      <td>21.5</td>\n",
       "      <td>39.0</td>\n",
       "      <td>235.0</td>\n",
       "      <td>3</td>\n",
       "      <td>3</td>\n",
       "      <td>0.6238</td>\n",
       "    </tr>\n",
       "    <tr>\n",
       "      <th>11764</th>\n",
       "      <td>60.0</td>\n",
       "      <td>0</td>\n",
       "      <td>180.500000</td>\n",
       "      <td>64.900002</td>\n",
       "      <td>8.700000</td>\n",
       "      <td>77.0</td>\n",
       "      <td>118.0</td>\n",
       "      <td>43.400002</td>\n",
       "      <td>16.6</td>\n",
       "      <td>31.0</td>\n",
       "      <td>210.0</td>\n",
       "      <td>1</td>\n",
       "      <td>1</td>\n",
       "      <td>0.7274</td>\n",
       "    </tr>\n",
       "    <tr>\n",
       "      <th>5136</th>\n",
       "      <td>58.0</td>\n",
       "      <td>0</td>\n",
       "      <td>172.199997</td>\n",
       "      <td>67.000000</td>\n",
       "      <td>22.000000</td>\n",
       "      <td>72.0</td>\n",
       "      <td>116.0</td>\n",
       "      <td>34.799999</td>\n",
       "      <td>19.1</td>\n",
       "      <td>27.0</td>\n",
       "      <td>202.0</td>\n",
       "      <td>3</td>\n",
       "      <td>3</td>\n",
       "      <td>0.4442</td>\n",
       "    </tr>\n",
       "  </tbody>\n",
       "</table>\n",
       "</div>"
      ],
      "text/plain": [
       "        age  gender   height_cm  weight_kg  body fat_%  diastolic  systolic  \\\n",
       "7357   60.0       0  172.399994  66.500000   26.500000       78.0     118.0   \n",
       "13347  41.0       1  161.399994  67.900002   33.099998       76.0     119.0   \n",
       "11854  35.0       0  181.300003  78.599998   21.400000       91.0     137.0   \n",
       "11764  60.0       0  180.500000  64.900002    8.700000       77.0     118.0   \n",
       "5136   58.0       0  172.199997  67.000000   22.000000       72.0     116.0   \n",
       "\n",
       "       gripForce  sit and bend forward_cm  sit-ups counts  broad jump_cm  \\\n",
       "7357   38.400002                     10.9            21.0          161.0   \n",
       "13347  34.900002                     21.0            33.0          150.0   \n",
       "11854  41.400002                     21.5            39.0          235.0   \n",
       "11764  43.400002                     16.6            31.0          210.0   \n",
       "5136   34.799999                     19.1            27.0          202.0   \n",
       "\n",
       "       class  prediction_label  prediction_score  \n",
       "7357       3                 3            0.8826  \n",
       "13347      4                 2            0.3889  \n",
       "11854      3                 3            0.6238  \n",
       "11764      1                 1            0.7274  \n",
       "5136       3                 3            0.4442  "
      ]
     },
     "execution_count": 47,
     "metadata": {},
     "output_type": "execute_result"
    }
   ],
   "source": [
    "predf = clf.predict_model(final_lgbm, data=test)\n",
    "predf.head()"
   ]
  },
  {
   "cell_type": "code",
   "execution_count": 49,
   "metadata": {},
   "outputs": [
    {
     "name": "stdout",
     "output_type": "stream",
     "text": [
      "              precision    recall  f1-score   support\n",
      "\n",
      "           1       0.72      0.89      0.79       335\n",
      "           2       0.61      0.61      0.61       335\n",
      "           3       0.74      0.66      0.70       335\n",
      "           4       0.93      0.80      0.86       335\n",
      "\n",
      "    accuracy                           0.74      1340\n",
      "   macro avg       0.75      0.74      0.74      1340\n",
      "weighted avg       0.75      0.74      0.74      1340\n",
      "\n"
     ]
    }
   ],
   "source": [
    "print(classification_report(test[target].values,predf['prediction_label'].values))"
   ]
  }
 ],
 "metadata": {
  "kernelspec": {
   "display_name": "ML-Pipeline",
   "language": "python",
   "name": "python3"
  },
  "language_info": {
   "codemirror_mode": {
    "name": "ipython",
    "version": 3
   },
   "file_extension": ".py",
   "mimetype": "text/x-python",
   "name": "python",
   "nbconvert_exporter": "python",
   "pygments_lexer": "ipython3",
   "version": "3.11.4"
  }
 },
 "nbformat": 4,
 "nbformat_minor": 2
}
