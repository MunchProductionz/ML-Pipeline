{
 "cells": [
  {
   "cell_type": "markdown",
   "metadata": {},
   "source": [
    "# Model Training\n",
    "## Guide"
   ]
  },
  {
   "cell_type": "code",
   "execution_count": 1,
   "metadata": {},
   "outputs": [],
   "source": [
    "guide_used = \"https://www.kaggle.com/code/samuelcortinhas/gaussian-mixture-model-gmm-from-the-ground-up\""
   ]
  },
  {
   "cell_type": "markdown",
   "metadata": {},
   "source": [
    "## Make necessary imports"
   ]
  },
  {
   "cell_type": "code",
   "execution_count": 94,
   "metadata": {},
   "outputs": [],
   "source": [
    "import opendatasets as od\n",
    "import pandas as pd\n",
    "import numpy as np\n",
    "import matplotlib.pyplot as plt \n",
    "import seaborn as sns\n",
    "import scipy.stats\n",
    "import sklearn.decomposition\n",
    "import plotly.express as px\n",
    "from matplotlib import cm"
   ]
  },
  {
   "cell_type": "markdown",
   "metadata": {},
   "source": [
    "## Define Model Class"
   ]
  },
  {
   "cell_type": "code",
   "execution_count": 26,
   "metadata": {},
   "outputs": [],
   "source": [
    "class GMM:\n",
    "    def __init__(self, k, max_iter=100, random_state = 0):\n",
    "        self.k = k\n",
    "        self.max_iter = max_iter\n",
    "        self.random_state = random_state\n",
    "\n",
    "    def initialise(self, X):\n",
    "        self.shape = X.shape\n",
    "        self.n, self.d = self.shape\n",
    "        \n",
    "        self.pi = np.full(shape=self.k, fill_value=1/self.k)\n",
    "        self.responsibilities = np.full(shape=self.shape, fill_value=1/self.k)\n",
    "        \n",
    "        np.random.seed(self.random_state)\n",
    "        random_row = np.random.randint(low=0, high=self.n, size=self.k)\n",
    "        self.mu = [X[row_index,:] for row_index in random_row]\n",
    "        self.sigma = [np.cov(X.T) for _ in range(self.k)]\n",
    "\n",
    "    def E_step(self, X):\n",
    "        # E-Step: update the responsibilities by holding mu and sigma constant\n",
    "        self.responsibilities = self.predict_proba(X)\n",
    "    \n",
    "    def M_step(self, X):\n",
    "        # M-Step: update pi, mu and sigma by holding responsibilities constant\n",
    "        self.pi = self.responsibilities.mean(axis=0)\n",
    "        for j in range(self.k):\n",
    "            r_column = self.responsibilities[:,j]\n",
    "            total_responsibility = r_column.sum()\n",
    "            self.mu[j] = (X * r_column[:, np.newaxis]).sum(axis=0)/total_responsibility\n",
    "            self.sigma[j] = np.cov(X.T, aweights=(r_column/total_responsibility).flatten(), bias=True)\n",
    "\n",
    "    def fit(self, X):\n",
    "        self.initialise(X)\n",
    "        \n",
    "        for iteration in range(self.max_iter):\n",
    "            self.E_step(X)\n",
    "            self.M_step(X)\n",
    "    \n",
    "    def predict_proba(self, X):\n",
    "        likelihood = np.zeros((self.n, self.k))\n",
    "        for j in range(self.k):\n",
    "            distribution = scipy.stats.multivariate_normal(mean=self.mu[j], cov=self.sigma[j])\n",
    "            likelihood[:,j] = distribution.pdf(X)\n",
    "        \n",
    "        numerator = likelihood * self.pi\n",
    "        denominator = numerator.sum(axis=1)[:, np.newaxis]\n",
    "        responsibilities = numerator / denominator\n",
    "        return responsibilities\n",
    "    \n",
    "    def predict(self, X):\n",
    "        responsibilities = self.predict_proba(X)\n",
    "        return np.argmax(responsibilities, axis=1)\n",
    "    \n",
    "    def fit_predict(self, X):\n",
    "        self.fit(X)\n",
    "        predictions = self.predict(X)\n",
    "        return predictions"
   ]
  },
  {
   "cell_type": "markdown",
   "metadata": {},
   "source": [
    "## Importing data"
   ]
  },
  {
   "cell_type": "markdown",
   "metadata": {},
   "source": [
    "Import data:"
   ]
  },
  {
   "cell_type": "code",
   "execution_count": 5,
   "metadata": {},
   "outputs": [
    {
     "name": "stdout",
     "output_type": "stream",
     "text": [
      "Skipping, found downloaded files in \".\\iris-flower-dataset\" (use force=True to force download)\n"
     ]
    }
   ],
   "source": [
    "od.download(\"https://www.kaggle.com/datasets/arshid/iris-flower-dataset\")   # Got error, so I downloaded it manually"
   ]
  },
  {
   "cell_type": "markdown",
   "metadata": {},
   "source": [
    "Read data:"
   ]
  },
  {
   "cell_type": "code",
   "execution_count": 11,
   "metadata": {},
   "outputs": [
    {
     "name": "stdout",
     "output_type": "stream",
     "text": [
      "<class 'pandas.core.frame.DataFrame'>\n",
      "RangeIndex: 150 entries, 0 to 149\n",
      "Data columns (total 5 columns):\n",
      " #   Column        Non-Null Count  Dtype  \n",
      "---  ------        --------------  -----  \n",
      " 0   sepal_length  150 non-null    float64\n",
      " 1   sepal_width   150 non-null    float64\n",
      " 2   petal_length  150 non-null    float64\n",
      " 3   petal_width   150 non-null    float64\n",
      " 4   species       150 non-null    object \n",
      "dtypes: float64(4), object(1)\n",
      "memory usage: 6.0+ KB\n"
     ]
    }
   ],
   "source": [
    "file = 'iris-flower-dataset/IRIS.csv'\n",
    "iris = pd.read_csv(file)\n",
    "iris.info()"
   ]
  },
  {
   "cell_type": "markdown",
   "metadata": {},
   "source": [
    "Preprocess data:"
   ]
  },
  {
   "cell_type": "code",
   "execution_count": 32,
   "metadata": {},
   "outputs": [],
   "source": [
    "X = iris.iloc[:, [0, 1, 2, 3]].values"
   ]
  },
  {
   "cell_type": "markdown",
   "metadata": {},
   "source": [
    "## Visualization"
   ]
  },
  {
   "cell_type": "markdown",
   "metadata": {},
   "source": [
    "Scatter plot:"
   ]
  },
  {
   "cell_type": "code",
   "execution_count": 91,
   "metadata": {},
   "outputs": [
    {
     "data": {
      "text/plain": [
       "Text(0.5, 1.0, '2 dimensional data with 3 clusters')"
      ]
     },
     "execution_count": 91,
     "metadata": {},
     "output_type": "execute_result"
    },
    {
     "data": {
      "image/png": "[encoded data removed]",
      "text/plain": [
       "<Figure size 2000x600 with 1 Axes>"
      ]
     },
     "metadata": {},
     "output_type": "display_data"
    }
   ],
   "source": [
    "# Scatterplot\n",
    "fig = plt.figure(figsize=(20,6))\n",
    "fig.add_subplot(121)\n",
    "ax1 = sns.scatterplot(data=iris, x='sepal_length', y='petal_length', hue='species')\n",
    "ax1.set_title('2 dimensional data with 3 clusters')"
   ]
  },
  {
   "cell_type": "markdown",
   "metadata": {},
   "source": [
    "3D plot with gaussian mixture estimate:"
   ]
  },
  {
   "cell_type": "code",
   "execution_count": 137,
   "metadata": {},
   "outputs": [
    {
     "ename": "ValueError",
     "evalue": "operands could not be broadcast together with shapes (100,100) (4,) ",
     "output_type": "error",
     "traceback": [
      "\u001b[1;31m---------------------------------------------------------------------------\u001b[0m",
      "\u001b[1;31mValueError\u001b[0m                                Traceback (most recent call last)",
      "Cell \u001b[1;32mIn[137], line 14\u001b[0m\n\u001b[0;32m     12\u001b[0m     mu \u001b[38;5;241m=\u001b[39m iris[iris[\u001b[38;5;124m'\u001b[39m\u001b[38;5;124mspecies\u001b[39m\u001b[38;5;124m'\u001b[39m]\u001b[38;5;241m==\u001b[39mflower]\u001b[38;5;241m.\u001b[39miloc[:,:\u001b[38;5;241m-\u001b[39m\u001b[38;5;241m1\u001b[39m]\u001b[38;5;241m.\u001b[39mmean()\n\u001b[0;32m     13\u001b[0m     sigma \u001b[38;5;241m=\u001b[39m np\u001b[38;5;241m.\u001b[39mdiag(iris[iris[\u001b[38;5;124m'\u001b[39m\u001b[38;5;124mspecies\u001b[39m\u001b[38;5;124m'\u001b[39m]\u001b[38;5;241m==\u001b[39mflower]\u001b[38;5;241m.\u001b[39miloc[:,:\u001b[38;5;241m-\u001b[39m\u001b[38;5;241m1\u001b[39m]\u001b[38;5;241m.\u001b[39mcov())\n\u001b[1;32m---> 14\u001b[0m     z \u001b[38;5;241m+\u001b[39m\u001b[38;5;241m=\u001b[39m \u001b[43mscipy\u001b[49m\u001b[38;5;241;43m.\u001b[39;49m\u001b[43mstats\u001b[49m\u001b[38;5;241;43m.\u001b[39;49m\u001b[43mmultivariate_normal\u001b[49m\u001b[38;5;241;43m.\u001b[39;49m\u001b[43mpdf\u001b[49m\u001b[43m(\u001b[49m\u001b[43mx\u001b[49m\u001b[38;5;241;43m=\u001b[39;49m\u001b[43mx\u001b[49m\u001b[43m,\u001b[49m\u001b[43m \u001b[49m\u001b[43mmean\u001b[49m\u001b[38;5;241;43m=\u001b[39;49m\u001b[43mmu\u001b[49m\u001b[43m,\u001b[49m\u001b[43m \u001b[49m\u001b[43mcov\u001b[49m\u001b[38;5;241;43m=\u001b[39;49m\u001b[43msigma\u001b[49m\u001b[43m)\u001b[49m\n\u001b[0;32m     15\u001b[0m     \u001b[38;5;28mprint\u001b[39m(z)\n\u001b[0;32m     17\u001b[0m \u001b[38;5;66;03m# Plot 3D plot with gaussian mixture estimate\u001b[39;00m\n",
      "File \u001b[1;32mc:\\Users\\henri\\anaconda3\\envs\\ML-Pipeline\\Lib\\site-packages\\scipy\\stats\\_multivariate.py:588\u001b[0m, in \u001b[0;36mmultivariate_normal_gen.pdf\u001b[1;34m(self, x, mean, cov, allow_singular)\u001b[0m\n\u001b[0;32m    586\u001b[0m dim, mean, cov_object \u001b[38;5;241m=\u001b[39m params\n\u001b[0;32m    587\u001b[0m x \u001b[38;5;241m=\u001b[39m \u001b[38;5;28mself\u001b[39m\u001b[38;5;241m.\u001b[39m_process_quantiles(x, dim)\n\u001b[1;32m--> 588\u001b[0m out \u001b[38;5;241m=\u001b[39m np\u001b[38;5;241m.\u001b[39mexp(\u001b[38;5;28;43mself\u001b[39;49m\u001b[38;5;241;43m.\u001b[39;49m\u001b[43m_logpdf\u001b[49m\u001b[43m(\u001b[49m\u001b[43mx\u001b[49m\u001b[43m,\u001b[49m\u001b[43m \u001b[49m\u001b[43mmean\u001b[49m\u001b[43m,\u001b[49m\u001b[43m \u001b[49m\u001b[43mcov_object\u001b[49m\u001b[43m)\u001b[49m)\n\u001b[0;32m    589\u001b[0m \u001b[38;5;28;01mif\u001b[39;00m np\u001b[38;5;241m.\u001b[39many(cov_object\u001b[38;5;241m.\u001b[39mrank \u001b[38;5;241m<\u001b[39m dim):\n\u001b[0;32m    590\u001b[0m     out_of_bounds \u001b[38;5;241m=\u001b[39m \u001b[38;5;241m~\u001b[39mcov_object\u001b[38;5;241m.\u001b[39m_support_mask(x\u001b[38;5;241m-\u001b[39mmean)\n",
      "File \u001b[1;32mc:\\Users\\henri\\anaconda3\\envs\\ML-Pipeline\\Lib\\site-packages\\scipy\\stats\\_multivariate.py:531\u001b[0m, in \u001b[0;36mmultivariate_normal_gen._logpdf\u001b[1;34m(self, x, mean, cov_object)\u001b[0m\n\u001b[0;32m    512\u001b[0m \u001b[38;5;250m\u001b[39m\u001b[38;5;124;03m\"\"\"Log of the multivariate normal probability density function.\u001b[39;00m\n\u001b[0;32m    513\u001b[0m \n\u001b[0;32m    514\u001b[0m \u001b[38;5;124;03mParameters\u001b[39;00m\n\u001b[1;32m   (...)\u001b[0m\n\u001b[0;32m    528\u001b[0m \n\u001b[0;32m    529\u001b[0m \u001b[38;5;124;03m\"\"\"\u001b[39;00m\n\u001b[0;32m    530\u001b[0m log_det_cov, rank \u001b[38;5;241m=\u001b[39m cov_object\u001b[38;5;241m.\u001b[39mlog_pdet, cov_object\u001b[38;5;241m.\u001b[39mrank\n\u001b[1;32m--> 531\u001b[0m dev \u001b[38;5;241m=\u001b[39m \u001b[43mx\u001b[49m\u001b[43m \u001b[49m\u001b[38;5;241;43m-\u001b[39;49m\u001b[43m \u001b[49m\u001b[43mmean\u001b[49m\n\u001b[0;32m    532\u001b[0m \u001b[38;5;28;01mif\u001b[39;00m dev\u001b[38;5;241m.\u001b[39mndim \u001b[38;5;241m>\u001b[39m \u001b[38;5;241m1\u001b[39m:\n\u001b[0;32m    533\u001b[0m     log_det_cov \u001b[38;5;241m=\u001b[39m log_det_cov[\u001b[38;5;241m.\u001b[39m\u001b[38;5;241m.\u001b[39m\u001b[38;5;241m.\u001b[39m, np\u001b[38;5;241m.\u001b[39mnewaxis]\n",
      "\u001b[1;31mValueError\u001b[0m: operands could not be broadcast together with shapes (100,100) (4,) "
     ]
    }
   ],
   "source": [
    "# DOES NOT WORK\n",
    "\n",
    "'''3D plot for 2D gaussian mixture estimation'''\n",
    "# Define grid\n",
    "x = np.linspace(4,9, num=100)\n",
    "y = np.linspace(0,8, num=100)\n",
    "x, y = np.meshgrid(x, y)\n",
    "z = 0\n",
    "\n",
    "# Estimate gaussian parameters\n",
    "for flower in ['Iris-setosa','Iris-versicolor','Iris-virginica']:\n",
    "    mu = iris[iris['species']==flower].iloc[:,:-1].mean()\n",
    "    sigma = np.diag(iris[iris['species']==flower].iloc[:,:-1].cov())\n",
    "    z += scipy.stats.multivariate_normal.pdf(x=x, mean=mu, cov=sigma)\n",
    "    print(z)\n",
    "\n",
    "# Plot 3D plot with gaussian mixture estimate\n",
    "ax2 = fig.add_subplot(122, projection='3d')\n",
    "ax2.plot_surface(x,y,z, cmap=cm.jet)\n",
    "ax2.set_title('2D Gaussian mixture plotted in 3D')\n",
    "ax2.set_xlabel('sepal_length')\n",
    "ax2.set_ylabel('petal_length')\n",
    "plt.show()"
   ]
  },
  {
   "cell_type": "markdown",
   "metadata": {},
   "source": [
    "## Gaussian Mixture Model"
   ]
  },
  {
   "cell_type": "code",
   "execution_count": 33,
   "metadata": {},
   "outputs": [],
   "source": [
    "# Gaussian Mixture Model\n",
    "gmm = GMM(k=7, max_iter=100)\n",
    "preds = gmm.fit_predict(X)"
   ]
  },
  {
   "cell_type": "markdown",
   "metadata": {},
   "source": [
    "### Visualizations"
   ]
  },
  {
   "cell_type": "markdown",
   "metadata": {},
   "source": [
    "Count plot:"
   ]
  },
  {
   "cell_type": "code",
   "execution_count": 35,
   "metadata": {},
   "outputs": [
    {
     "data": {
      "text/plain": [
       "Text(0.5, 1.0, 'Predicted clusters')"
      ]
     },
     "execution_count": 35,
     "metadata": {},
     "output_type": "execute_result"
    },
    {
     "data": {
      "image/png": "[encoded data removed]",
      "text/plain": [
       "<Figure size 1000x400 with 1 Axes>"
      ]
     },
     "metadata": {},
     "output_type": "display_data"
    }
   ],
   "source": [
    "# Countplot\n",
    "plt.figure(figsize=(10,4))\n",
    "sns.countplot(x=preds)\n",
    "plt.title('Predicted clusters')"
   ]
  },
  {
   "cell_type": "markdown",
   "metadata": {},
   "source": [
    "Cluster distributions (Histograms of features):"
   ]
  },
  {
   "cell_type": "code",
   "execution_count": 79,
   "metadata": {},
   "outputs": [
    {
     "data": {
      "image/png": "[encoded data removed]",
      "text/plain": [
       "<Figure size 2000x700 with 4 Axes>"
      ]
     },
     "metadata": {},
     "output_type": "display_data"
    }
   ],
   "source": [
    "# From https://www.kaggle.com/code/ambrosm/tpsjul22-gaussian-mixture-cluster-analysis\n",
    "fig, axs = plt.subplots(1, 4, figsize=(20, 7))\n",
    "axs = axs.ravel()\n",
    "feature_columns = ['sepal_length', 'sepal_width', 'petal_length', 'petal_width']\n",
    "feature_columns_idx = range(4)\n",
    "y=preds\n",
    "for ax, feature, idx in zip(axs, feature_columns, feature_columns_idx):\n",
    "    for i in range(10):\n",
    "        h, edges = np.histogram(X[y == i, idx], bins=np.linspace(-2, 10, 40))\n",
    "        ax.plot((edges[:-1] + edges[1:]) / 2, h, label=f\"Cluster {i}\", lw=3)\n",
    "    ax.set_title(feature)\n",
    "plt.suptitle('Histograms of continuous features by cluster', y=1.02, fontsize=28)\n",
    "fig.tight_layout(h_pad=1.0, w_pad=0.5)\n",
    "plt.show()"
   ]
  },
  {
   "cell_type": "markdown",
   "metadata": {},
   "source": [
    "## PCA"
   ]
  },
  {
   "cell_type": "code",
   "execution_count": 81,
   "metadata": {},
   "outputs": [],
   "source": [
    "# PCA\n",
    "pca = sklearn.decomposition.PCA(n_components=3)\n",
    "components = pca.fit_transform(X)"
   ]
  },
  {
   "cell_type": "markdown",
   "metadata": {},
   "source": [
    "Scatter plot:"
   ]
  },
  {
   "cell_type": "code",
   "execution_count": 88,
   "metadata": {},
   "outputs": [
    {
     "data": {
      "application/vnd.plotly.v1+json": {
       "config": {
        "plotlyServerURL": "https://plot.ly"
       },
       "data": [
        {
         "hovertemplate": "PC 1=%{x}<br>PC 2=%{y}<br>PC 3=%{z}<br>size=%{marker.size}<br>color=%{marker.color}<extra></extra>",
         "legendgroup": "",
         "marker": {
          "color": [
           0,
           0,
           0,
           0,
           4,
           5,
           0,
           0,
           0,
           0,
           0,
           0,
           0,
           4,
           5,
           5,
           5,
           0,
           0,
           5,
           0,
           5,
           4,
           5,
           5,
           4,
           5,
           0,
           0,
           0,
           0,
           5,
           4,
           5,
           0,
           0,
           0,
           0,
           0,
           0,
           0,
           4,
           0,
           5,
           5,
           4,
           5,
           0,
           0,
           0,
           6,
           2,
           2,
           2,
           2,
           2,
           2,
           2,
           2,
           2,
           2,
           2,
           2,
           2,
           2,
           2,
           2,
           2,
           3,
           2,
           3,
           2,
           3,
           2,
           2,
           2,
           2,
           3,
           2,
           2,
           2,
           2,
           2,
           3,
           2,
           2,
           2,
           2,
           2,
           2,
           2,
           2,
           2,
           2,
           2,
           2,
           2,
           2,
           2,
           2,
           3,
           3,
           3,
           3,
           3,
           1,
           3,
           1,
           3,
           3,
           3,
           3,
           3,
           3,
           3,
           3,
           3,
           1,
           6,
           3,
           3,
           3,
           1,
           3,
           3,
           1,
           3,
           3,
           3,
           1,
           6,
           1,
           3,
           3,
           3,
           6,
           3,
           3,
           3,
           3,
           3,
           6,
           3,
           3,
           3,
           3,
           3,
           3,
           3,
           3
          ],
          "coloraxis": "coloraxis",
          "opacity": 1,
          "size": [
           0.1,
           0.1,
           0.1,
           0.1,
           0.1,
           0.1,
           0.1,
           0.1,
           0.1,
           0.1,
           0.1,
           0.1,
           0.1,
           0.1,
           0.1,
           0.1,
           0.1,
           0.1,
           0.1,
           0.1,
           0.1,
           0.1,
           0.1,
           0.1,
           0.1,
           0.1,
           0.1,
           0.1,
           0.1,
           0.1,
           0.1,
           0.1,
           0.1,
           0.1,
           0.1,
           0.1,
           0.1,
           0.1,
           0.1,
           0.1,
           0.1,
           0.1,
           0.1,
           0.1,
           0.1,
           0.1,
           0.1,
           0.1,
           0.1,
           0.1,
           0.1,
           0.1,
           0.1,
           0.1,
           0.1,
           0.1,
           0.1,
           0.1,
           0.1,
           0.1,
           0.1,
           0.1,
           0.1,
           0.1,
           0.1,
           0.1,
           0.1,
           0.1,
           0.1,
           0.1,
           0.1,
           0.1,
           0.1,
           0.1,
           0.1,
           0.1,
           0.1,
           0.1,
           0.1,
           0.1,
           0.1,
           0.1,
           0.1,
           0.1,
           0.1,
           0.1,
           0.1,
           0.1,
           0.1,
           0.1,
           0.1,
           0.1,
           0.1,
           0.1,
           0.1,
           0.1,
           0.1,
           0.1,
           0.1,
           0.1,
           0.1,
           0.1,
           0.1,
           0.1,
           0.1,
           0.1,
           0.1,
           0.1,
           0.1,
           0.1,
           0.1,
           0.1,
           0.1,
           0.1,
           0.1,
           0.1,
           0.1,
           0.1,
           0.1,
           0.1,
           0.1,
           0.1,
           0.1,
           0.1,
           0.1,
           0.1,
           0.1,
           0.1,
           0.1,
           0.1,
           0.1,
           0.1,
           0.1,
           0.1,
           0.1,
           0.1,
           0.1,
           0.1,
           0.1,
           0.1,
           0.1,
           0.1,
           0.1,
           0.1,
           0.1,
           0.1,
           0.1,
           0.1,
           0.1,
           0.1
          ],
          "sizemode": "area",
          "sizeref": 0.00025,
          "symbol": "circle"
         },
         "mode": "markers",
         "name": "",
         "scene": "scene",
         "showlegend": false,
         "type": "scatter3d",
         "x": [
          -2.684207125103949,
          -2.715390615634132,
          -2.8898195396179163,
          -2.7464371973087345,
          -2.7285929818313144,
          -2.279897361009597,
          -2.8208906821806297,
          -2.6264819933238184,
          -2.887958565335635,
          -2.673844686719121,
          -2.5065267893389023,
          -2.613142718271056,
          -2.7874339759970974,
          -3.225200446274981,
          -2.643543216941145,
          -2.383869323799374,
          -2.6225262031258074,
          -2.648322732479126,
          -2.199077961430762,
          -2.587346188917737,
          -2.310531701313133,
          -2.543234907303695,
          -3.2158576949001048,
          -2.303128537663882,
          -2.3561710866838976,
          -2.50791722683788,
          -2.469055997545122,
          -2.56239094683675,
          -2.639821268376581,
          -2.632847908030758,
          -2.5884620513033916,
          -2.410077337121595,
          -2.6476366733969,
          -2.5971594770759174,
          -2.673844686719121,
          -2.866999846932534,
          -2.6252284646804203,
          -2.673844686719121,
          -2.9818426648539087,
          -2.5903230255856733,
          -2.7701389107463235,
          -2.8522110815663915,
          -2.9982964428323515,
          -2.405514101284701,
          -2.2088329541767044,
          -2.7156651907474543,
          -2.537573371013506,
          -2.8403212968270086,
          -2.5426857570770474,
          -2.7039123148636497,
          1.284794587845072,
          0.9324107529829179,
          1.4640613227790757,
          0.1809672063476985,
          1.0871344872070008,
          0.6404367495231454,
          1.0952237099384785,
          -0.7514671406482273,
          1.0432977807062813,
          -0.010190070727853493,
          -0.5110861958950912,
          0.5110980606834774,
          0.2623357561531802,
          0.984044545169431,
          -0.17486400196569615,
          0.9275729420327,
          0.6595927890562003,
          0.23454058625983562,
          0.9423617073988417,
          0.043246400328704596,
          1.1162407237538157,
          0.3567865678304614,
          1.2964688502855337,
          0.9205026489090095,
          0.7140082136428335,
          0.8996408632837766,
          1.3310414188547202,
          1.5573962720707024,
          0.8124555489980018,
          -0.3073347556634043,
          -0.07034288894927175,
          -0.1918844921031458,
          0.13499495045137333,
          1.3787369827755827,
          0.5872748535799104,
          0.8072054966767166,
          1.22042896624468,
          0.8128677903690695,
          0.24519516169034597,
          0.1645134283692555,
          0.463030988871424,
          0.8901604456511564,
          0.22887904996964759,
          -0.7070812839208609,
          0.3555330391870634,
          0.3311269473327228,
          0.3752382289467656,
          0.6416902781665432,
          -0.9084633331234953,
          0.2978079074069339,
          2.531726980439558,
          1.414072225173757,
          2.616484608284044,
          1.9708149459064817,
          2.3497579839509424,
          3.3968799206781384,
          0.5193832450849355,
          2.9320050969913014,
          2.319672793874053,
          2.9181342336442517,
          1.6619349470194866,
          1.8023404526607332,
          2.1653788629533977,
          1.3445942175098242,
          1.5852672993086434,
          1.9047435782139124,
          1.949248781864498,
          3.4887653796563867,
          3.79468686120997,
          1.2983298245678159,
          2.4281672590208485,
          1.1980973722749622,
          3.4992654842989572,
          1.3876682501815556,
          2.275853649305694,
          2.6141938306983343,
          1.2576251829251361,
          1.2906696477376014,
          2.1228539805083133,
          2.387564402369028,
          2.840960925285384,
          3.2323428982958755,
          2.1587383731331347,
          1.4431026043759745,
          1.77964010689857,
          3.076521621020662,
          2.1449868567093033,
          1.9048629251371318,
          1.1688534694704034,
          2.1076537311732686,
          2.3143033946295484,
          1.9224508848357524,
          1.414072225173757,
          2.5633227123408093,
          2.41939121980498,
          1.944017048877737,
          1.5256636313138723,
          1.764045935526983,
          1.9016290752882326,
          1.3896661333194162
         ],
         "y": [
          0.32660731476438853,
          -0.16955684755602576,
          -0.1373456096050276,
          -0.31112431575199145,
          0.33392456356845446,
          0.747782713225133,
          -0.08210451102468072,
          0.17040534896028972,
          -0.5707980263315912,
          -0.10669170375273841,
          0.6519350136725713,
          0.021520631960258028,
          -0.22774018887110603,
          -0.5032799094854253,
          1.1861948994134486,
          1.3447543445598613,
          0.8180896745965947,
          0.3191366677508845,
          0.879244088091736,
          0.5204736388059674,
          0.39786782158889156,
          0.44003175465981503,
          0.1416155716255836,
          0.10552267842998227,
          -0.031209589068338248,
          -0.13905633991317395,
          0.13788731459041764,
          0.37468456275010587,
          0.3192900659603216,
          -0.19007583063362396,
          -0.19739307943769066,
          0.41808000824761576,
          0.8199826325595063,
          1.1000219280072678,
          -0.10669170375273841,
          0.07719309572358714,
          0.6068000084215859,
          -0.10669170375273841,
          -0.48025004885607614,
          0.23605933728887274,
          0.2710594197651669,
          -0.9328653674695437,
          -0.33430757459077687,
          0.19591725769606064,
          0.44269603042100253,
          -0.2426814828981127,
          0.5103675454766055,
          -0.22057633827647638,
          0.586281025343988,
          0.11501085217050559,
          0.6854391861329194,
          0.3191980898336485,
          0.5041898329724526,
          -0.8256039435761127,
          0.07539038928876739,
          -0.41732348297002547,
          0.2838912109384801,
          -1.0011075129743934,
          0.22895690877700658,
          -0.720574866701901,
          -1.2624919538621393,
          -0.10228410504597012,
          -0.5478932980253364,
          -0.12436042022227786,
          -0.2518155710801704,
          0.46823620504311675,
          -0.3519762910603162,
          -0.33192182936212006,
          -0.5418222581500137,
          -0.5814894466123582,
          -0.08421401387837336,
          -0.06682382794136615,
          -0.32756151979494397,
          -0.18239036332792088,
          0.15037915314843706,
          0.3296109795818836,
          0.24466952060228897,
          0.26739258481276457,
          -0.16233157487863317,
          -0.3650866127661601,
          -0.7025379317307253,
          -0.6774905443743566,
          -0.31170964270339596,
          -0.421205138214628,
          -0.48328426771748195,
          0.19505396377111134,
          0.40803533700101713,
          -0.3706789983189093,
          -0.2667280356618478,
          -0.6796614693108132,
          -0.669526546536122,
          -0.033812442746762685,
          -0.4022576201789111,
          -1.0084247617784603,
          -0.503218487402662,
          -0.2111801406626265,
          -0.29162202480877947,
          0.019071176491270728,
          -0.7515687251694848,
          -0.34701652159856367,
          -0.01184223664030038,
          -0.5749250559123043,
          0.3419352869872944,
          -0.1811256947049136,
          -0.041882549654841825,
          0.5471680462301522,
          -1.1913516890506521,
          0.3523770061808593,
          -0.24554817060691014,
          0.7803806293720316,
          0.2420384010375222,
          -0.21615460662653616,
          0.21528028337300695,
          -0.7764154251768244,
          -0.5393070538471717,
          0.11881899098269848,
          0.04073025942776774,
          1.171544544263563,
          0.25326557097253416,
          -0.7610139365215074,
          0.3767819712541522,
          -0.6055789617645939,
          0.456773466964074,
          -0.20403098657015462,
          0.33338652575664185,
          0.5583669502788219,
          -0.17913699742322267,
          -0.11642525182937243,
          -0.21085488454948975,
          0.46251925072626,
          0.37274259104902085,
          1.3705240359763327,
          -0.21832553156299309,
          -0.14380128908272607,
          -0.5014647947060152,
          0.685764442246056,
          0.13890660887731446,
          0.04804750823183453,
          -0.1645024998150898,
          0.3714822491771054,
          0.18260885079369837,
          0.40927117617869524,
          -0.5749250559123043,
          0.2759745022398378,
          0.3035039377026285,
          0.1874152220460137,
          -0.37502084819182263,
          0.07851918642935736,
          0.11587674824796561,
          -0.2828867091722689
         ],
         "z": [
          -0.02151183700196329,
          -0.20352142500549114,
          0.02470924099895705,
          0.03767197528530114,
          0.09622969977460928,
          0.17432561901640278,
          0.2642510851906961,
          -0.0158015102643151,
          0.027335406114507355,
          -0.1915332997356447,
          -0.06927499581393105,
          0.10765035324990471,
          -0.20032778809538923,
          0.06841362917233045,
          -0.14450570400963564,
          0.28373066393977686,
          0.14531598882161784,
          0.03339425407069805,
          -0.11452146479835296,
          0.21957208800082492,
          -0.23369560709796952,
          0.21483637027967545,
          0.2996189815108712,
          0.045680041274487146,
          0.12940757589599347,
          -0.24711633789085977,
          0.1012630794297022,
          -0.07235915743602823,
          -0.13925337377853478,
          0.04646646364504582,
          -0.07127507313152595,
          -0.138388240050041,
          0.23058560425417265,
          0.16358191262366256,
          -0.1915332997356447,
          -0.15684235049802422,
          -0.26116315648170557,
          -0.1915332997356447,
          0.07972480735962147,
          -0.07390123824707653,
          0.0842415745047633,
          -0.34096149110715146,
          0.19900842494724208,
          0.2707170703688335,
          0.30348780926827046,
          -0.09051560595006826,
          0.17191840447686066,
          0.09006137653041524,
          -0.011175267831169095,
          -0.08269572660682167,
          -0.4061295530769633,
          -0.0171299092051253,
          -0.338260727717959,
          -0.17708285639336468,
          -0.30654446481443187,
          0.041188769353644406,
          0.17002253374149978,
          0.015672194238160294,
          -0.41481456614870404,
          0.2834372462541258,
          -0.2664899538224496,
          0.1323278904749737,
          -0.6919415783189647,
          -0.062157427613538825,
          0.09365863819195044,
          -0.31322940056857734,
          0.32838429706934796,
          -0.2702806708356936,
          -0.4973485411777045,
          -0.2329635564825227,
          0.4598442265727534,
          -0.22747218032088332,
          -0.3475132125842502,
          -0.23161141855267006,
          -0.32037233282926975,
          -0.3147714813796257,
          -0.5212449247379848,
          -0.16463849085222865,
          0.0363435763444907,
          -0.31533719693892004,
          -0.24175804484226784,
          -0.3039165434636246,
          -0.1749733037877652,
          0.015480495121708323,
          0.44458375303487085,
          0.38945871138620247,
          -0.23656608684982802,
          -0.612871050060673,
          0.189562484729242,
          -0.05779923880574407,
          -0.024053890889809228,
          -0.009768026368424765,
          -0.22736270503287925,
          -0.10206934253841152,
          0.01788946589650758,
          0.08380907322251575,
          0.07907335550136595,
          -0.20417287686374624,
          -0.007736584506980548,
          0.012179139158859344,
          0.7584586515284953,
          0.2963982243052132,
          -0.11214137055436682,
          0.10653914864984597,
          0.28411068086616736,
          -0.35187315762730165,
          0.546685531124949,
          -0.42369127833689707,
          -0.3499221833590494,
          0.4217389336137672,
          0.24281526346759313,
          -0.03769532849396469,
          0.03314818319913317,
          0.2828680182243185,
          0.6305704884623259,
          0.4801380797657286,
          0.04272909392943661,
          0.1293200833617753,
          -0.5169707159938949,
          -0.34488704746869975,
          0.2186490700467051,
          0.5126407650398148,
          -0.5769101867216485,
          -0.0635113217786481,
          0.28467815266071783,
          -0.20842334661879347,
          0.046977807449227145,
          0.23161356056830606,
          0.15351588509125522,
          -0.45202396144912754,
          -0.5010315391382015,
          -0.11844877739515802,
          0.20842197616391572,
          -0.15408297110542715,
          -0.17581118605670326,
          -0.33642274120822396,
          0.7341847390548601,
          0.16047063070600842,
          0.28246088100237127,
          0.027437856461485225,
          0.3228604007423826,
          0.1154928159607173,
          0.2963982243052132,
          0.29125361312685966,
          0.5043025169513599,
          0.17930287068112674,
          -0.1206364407449121,
          0.13078405342866883,
          0.7228735608675686,
          0.36231783163122144
         ]
        }
       ],
       "layout": {
        "coloraxis": {
         "colorbar": {
          "title": {
           "text": "color"
          }
         },
         "colorscale": [
          [
           0,
           "#0d0887"
          ],
          [
           0.1111111111111111,
           "#46039f"
          ],
          [
           0.2222222222222222,
           "#7201a8"
          ],
          [
           0.3333333333333333,
           "#9c179e"
          ],
          [
           0.4444444444444444,
           "#bd3786"
          ],
          [
           0.5555555555555556,
           "#d8576b"
          ],
          [
           0.6666666666666666,
           "#ed7953"
          ],
          [
           0.7777777777777778,
           "#fb9f3a"
          ],
          [
           0.8888888888888888,
           "#fdca26"
          ],
          [
           1,
           "#f0f921"
          ]
         ]
        },
        "height": 500,
        "legend": {
         "itemsizing": "constant",
         "tracegroupgap": 0
        },
        "scene": {
         "domain": {
          "x": [
           0,
           1
          ],
          "y": [
           0,
           1
          ]
         },
         "xaxis": {
          "title": {
           "text": "PC 1"
          }
         },
         "yaxis": {
          "title": {
           "text": "PC 2"
          }
         },
         "zaxis": {
          "title": {
           "text": "PC 3"
          }
         }
        },
        "template": {
         "data": {
          "bar": [
           {
            "error_x": {
             "color": "#2a3f5f"
            },
            "error_y": {
             "color": "#2a3f5f"
            },
            "marker": {
             "line": {
              "color": "#E5ECF6",
              "width": 0.5
             },
             "pattern": {
              "fillmode": "overlay",
              "size": 10,
              "solidity": 0.2
             }
            },
            "type": "bar"
           }
          ],
          "barpolar": [
           {
            "marker": {
             "line": {
              "color": "#E5ECF6",
              "width": 0.5
             },
             "pattern": {
              "fillmode": "overlay",
              "size": 10,
              "solidity": 0.2
             }
            },
            "type": "barpolar"
           }
          ],
          "carpet": [
           {
            "aaxis": {
             "endlinecolor": "#2a3f5f",
             "gridcolor": "white",
             "linecolor": "white",
             "minorgridcolor": "white",
             "startlinecolor": "#2a3f5f"
            },
            "baxis": {
             "endlinecolor": "#2a3f5f",
             "gridcolor": "white",
             "linecolor": "white",
             "minorgridcolor": "white",
             "startlinecolor": "#2a3f5f"
            },
            "type": "carpet"
           }
          ],
          "choropleth": [
           {
            "colorbar": {
             "outlinewidth": 0,
             "ticks": ""
            },
            "type": "choropleth"
           }
          ],
          "contour": [
           {
            "colorbar": {
             "outlinewidth": 0,
             "ticks": ""
            },
            "colorscale": [
             [
              0,
              "#0d0887"
             ],
             [
              0.1111111111111111,
              "#46039f"
             ],
             [
              0.2222222222222222,
              "#7201a8"
             ],
             [
              0.3333333333333333,
              "#9c179e"
             ],
             [
              0.4444444444444444,
              "#bd3786"
             ],
             [
              0.5555555555555556,
              "#d8576b"
             ],
             [
              0.6666666666666666,
              "#ed7953"
             ],
             [
              0.7777777777777778,
              "#fb9f3a"
             ],
             [
              0.8888888888888888,
              "#fdca26"
             ],
             [
              1,
              "#f0f921"
             ]
            ],
            "type": "contour"
           }
          ],
          "contourcarpet": [
           {
            "colorbar": {
             "outlinewidth": 0,
             "ticks": ""
            },
            "type": "contourcarpet"
           }
          ],
          "heatmap": [
           {
            "colorbar": {
             "outlinewidth": 0,
             "ticks": ""
            },
            "colorscale": [
             [
              0,
              "#0d0887"
             ],
             [
              0.1111111111111111,
              "#46039f"
             ],
             [
              0.2222222222222222,
              "#7201a8"
             ],
             [
              0.3333333333333333,
              "#9c179e"
             ],
             [
              0.4444444444444444,
              "#bd3786"
             ],
             [
              0.5555555555555556,
              "#d8576b"
             ],
             [
              0.6666666666666666,
              "#ed7953"
             ],
             [
              0.7777777777777778,
              "#fb9f3a"
             ],
             [
              0.8888888888888888,
              "#fdca26"
             ],
             [
              1,
              "#f0f921"
             ]
            ],
            "type": "heatmap"
           }
          ],
          "heatmapgl": [
           {
            "colorbar": {
             "outlinewidth": 0,
             "ticks": ""
            },
            "colorscale": [
             [
              0,
              "#0d0887"
             ],
             [
              0.1111111111111111,
              "#46039f"
             ],
             [
              0.2222222222222222,
              "#7201a8"
             ],
             [
              0.3333333333333333,
              "#9c179e"
             ],
             [
              0.4444444444444444,
              "#bd3786"
             ],
             [
              0.5555555555555556,
              "#d8576b"
             ],
             [
              0.6666666666666666,
              "#ed7953"
             ],
             [
              0.7777777777777778,
              "#fb9f3a"
             ],
             [
              0.8888888888888888,
              "#fdca26"
             ],
             [
              1,
              "#f0f921"
             ]
            ],
            "type": "heatmapgl"
           }
          ],
          "histogram": [
           {
            "marker": {
             "pattern": {
              "fillmode": "overlay",
              "size": 10,
              "solidity": 0.2
             }
            },
            "type": "histogram"
           }
          ],
          "histogram2d": [
           {
            "colorbar": {
             "outlinewidth": 0,
             "ticks": ""
            },
            "colorscale": [
             [
              0,
              "#0d0887"
             ],
             [
              0.1111111111111111,
              "#46039f"
             ],
             [
              0.2222222222222222,
              "#7201a8"
             ],
             [
              0.3333333333333333,
              "#9c179e"
             ],
             [
              0.4444444444444444,
              "#bd3786"
             ],
             [
              0.5555555555555556,
              "#d8576b"
             ],
             [
              0.6666666666666666,
              "#ed7953"
             ],
             [
              0.7777777777777778,
              "#fb9f3a"
             ],
             [
              0.8888888888888888,
              "#fdca26"
             ],
             [
              1,
              "#f0f921"
             ]
            ],
            "type": "histogram2d"
           }
          ],
          "histogram2dcontour": [
           {
            "colorbar": {
             "outlinewidth": 0,
             "ticks": ""
            },
            "colorscale": [
             [
              0,
              "#0d0887"
             ],
             [
              0.1111111111111111,
              "#46039f"
             ],
             [
              0.2222222222222222,
              "#7201a8"
             ],
             [
              0.3333333333333333,
              "#9c179e"
             ],
             [
              0.4444444444444444,
              "#bd3786"
             ],
             [
              0.5555555555555556,
              "#d8576b"
             ],
             [
              0.6666666666666666,
              "#ed7953"
             ],
             [
              0.7777777777777778,
              "#fb9f3a"
             ],
             [
              0.8888888888888888,
              "#fdca26"
             ],
             [
              1,
              "#f0f921"
             ]
            ],
            "type": "histogram2dcontour"
           }
          ],
          "mesh3d": [
           {
            "colorbar": {
             "outlinewidth": 0,
             "ticks": ""
            },
            "type": "mesh3d"
           }
          ],
          "parcoords": [
           {
            "line": {
             "colorbar": {
              "outlinewidth": 0,
              "ticks": ""
             }
            },
            "type": "parcoords"
           }
          ],
          "pie": [
           {
            "automargin": true,
            "type": "pie"
           }
          ],
          "scatter": [
           {
            "fillpattern": {
             "fillmode": "overlay",
             "size": 10,
             "solidity": 0.2
            },
            "type": "scatter"
           }
          ],
          "scatter3d": [
           {
            "line": {
             "colorbar": {
              "outlinewidth": 0,
              "ticks": ""
             }
            },
            "marker": {
             "colorbar": {
              "outlinewidth": 0,
              "ticks": ""
             }
            },
            "type": "scatter3d"
           }
          ],
          "scattercarpet": [
           {
            "marker": {
             "colorbar": {
              "outlinewidth": 0,
              "ticks": ""
             }
            },
            "type": "scattercarpet"
           }
          ],
          "scattergeo": [
           {
            "marker": {
             "colorbar": {
              "outlinewidth": 0,
              "ticks": ""
             }
            },
            "type": "scattergeo"
           }
          ],
          "scattergl": [
           {
            "marker": {
             "colorbar": {
              "outlinewidth": 0,
              "ticks": ""
             }
            },
            "type": "scattergl"
           }
          ],
          "scattermapbox": [
           {
            "marker": {
             "colorbar": {
              "outlinewidth": 0,
              "ticks": ""
             }
            },
            "type": "scattermapbox"
           }
          ],
          "scatterpolar": [
           {
            "marker": {
             "colorbar": {
              "outlinewidth": 0,
              "ticks": ""
             }
            },
            "type": "scatterpolar"
           }
          ],
          "scatterpolargl": [
           {
            "marker": {
             "colorbar": {
              "outlinewidth": 0,
              "ticks": ""
             }
            },
            "type": "scatterpolargl"
           }
          ],
          "scatterternary": [
           {
            "marker": {
             "colorbar": {
              "outlinewidth": 0,
              "ticks": ""
             }
            },
            "type": "scatterternary"
           }
          ],
          "surface": [
           {
            "colorbar": {
             "outlinewidth": 0,
             "ticks": ""
            },
            "colorscale": [
             [
              0,
              "#0d0887"
             ],
             [
              0.1111111111111111,
              "#46039f"
             ],
             [
              0.2222222222222222,
              "#7201a8"
             ],
             [
              0.3333333333333333,
              "#9c179e"
             ],
             [
              0.4444444444444444,
              "#bd3786"
             ],
             [
              0.5555555555555556,
              "#d8576b"
             ],
             [
              0.6666666666666666,
              "#ed7953"
             ],
             [
              0.7777777777777778,
              "#fb9f3a"
             ],
             [
              0.8888888888888888,
              "#fdca26"
             ],
             [
              1,
              "#f0f921"
             ]
            ],
            "type": "surface"
           }
          ],
          "table": [
           {
            "cells": {
             "fill": {
              "color": "#EBF0F8"
             },
             "line": {
              "color": "white"
             }
            },
            "header": {
             "fill": {
              "color": "#C8D4E3"
             },
             "line": {
              "color": "white"
             }
            },
            "type": "table"
           }
          ]
         },
         "layout": {
          "annotationdefaults": {
           "arrowcolor": "#2a3f5f",
           "arrowhead": 0,
           "arrowwidth": 1
          },
          "autotypenumbers": "strict",
          "coloraxis": {
           "colorbar": {
            "outlinewidth": 0,
            "ticks": ""
           }
          },
          "colorscale": {
           "diverging": [
            [
             0,
             "#8e0152"
            ],
            [
             0.1,
             "#c51b7d"
            ],
            [
             0.2,
             "#de77ae"
            ],
            [
             0.3,
             "#f1b6da"
            ],
            [
             0.4,
             "#fde0ef"
            ],
            [
             0.5,
             "#f7f7f7"
            ],
            [
             0.6,
             "#e6f5d0"
            ],
            [
             0.7,
             "#b8e186"
            ],
            [
             0.8,
             "#7fbc41"
            ],
            [
             0.9,
             "#4d9221"
            ],
            [
             1,
             "#276419"
            ]
           ],
           "sequential": [
            [
             0,
             "#0d0887"
            ],
            [
             0.1111111111111111,
             "#46039f"
            ],
            [
             0.2222222222222222,
             "#7201a8"
            ],
            [
             0.3333333333333333,
             "#9c179e"
            ],
            [
             0.4444444444444444,
             "#bd3786"
            ],
            [
             0.5555555555555556,
             "#d8576b"
            ],
            [
             0.6666666666666666,
             "#ed7953"
            ],
            [
             0.7777777777777778,
             "#fb9f3a"
            ],
            [
             0.8888888888888888,
             "#fdca26"
            ],
            [
             1,
             "#f0f921"
            ]
           ],
           "sequentialminus": [
            [
             0,
             "#0d0887"
            ],
            [
             0.1111111111111111,
             "#46039f"
            ],
            [
             0.2222222222222222,
             "#7201a8"
            ],
            [
             0.3333333333333333,
             "#9c179e"
            ],
            [
             0.4444444444444444,
             "#bd3786"
            ],
            [
             0.5555555555555556,
             "#d8576b"
            ],
            [
             0.6666666666666666,
             "#ed7953"
            ],
            [
             0.7777777777777778,
             "#fb9f3a"
            ],
            [
             0.8888888888888888,
             "#fdca26"
            ],
            [
             1,
             "#f0f921"
            ]
           ]
          },
          "colorway": [
           "#636efa",
           "#EF553B",
           "#00cc96",
           "#ab63fa",
           "#FFA15A",
           "#19d3f3",
           "#FF6692",
           "#B6E880",
           "#FF97FF",
           "#FECB52"
          ],
          "font": {
           "color": "#2a3f5f"
          },
          "geo": {
           "bgcolor": "white",
           "lakecolor": "white",
           "landcolor": "#E5ECF6",
           "showlakes": true,
           "showland": true,
           "subunitcolor": "white"
          },
          "hoverlabel": {
           "align": "left"
          },
          "hovermode": "closest",
          "mapbox": {
           "style": "light"
          },
          "paper_bgcolor": "white",
          "plot_bgcolor": "#E5ECF6",
          "polar": {
           "angularaxis": {
            "gridcolor": "white",
            "linecolor": "white",
            "ticks": ""
           },
           "bgcolor": "#E5ECF6",
           "radialaxis": {
            "gridcolor": "white",
            "linecolor": "white",
            "ticks": ""
           }
          },
          "scene": {
           "xaxis": {
            "backgroundcolor": "#E5ECF6",
            "gridcolor": "white",
            "gridwidth": 2,
            "linecolor": "white",
            "showbackground": true,
            "ticks": "",
            "zerolinecolor": "white"
           },
           "yaxis": {
            "backgroundcolor": "#E5ECF6",
            "gridcolor": "white",
            "gridwidth": 2,
            "linecolor": "white",
            "showbackground": true,
            "ticks": "",
            "zerolinecolor": "white"
           },
           "zaxis": {
            "backgroundcolor": "#E5ECF6",
            "gridcolor": "white",
            "gridwidth": 2,
            "linecolor": "white",
            "showbackground": true,
            "ticks": "",
            "zerolinecolor": "white"
           }
          },
          "shapedefaults": {
           "line": {
            "color": "#2a3f5f"
           }
          },
          "ternary": {
           "aaxis": {
            "gridcolor": "white",
            "linecolor": "white",
            "ticks": ""
           },
           "baxis": {
            "gridcolor": "white",
            "linecolor": "white",
            "ticks": ""
           },
           "bgcolor": "#E5ECF6",
           "caxis": {
            "gridcolor": "white",
            "linecolor": "white",
            "ticks": ""
           }
          },
          "title": {
           "x": 0.05
          },
          "xaxis": {
           "automargin": true,
           "gridcolor": "white",
           "linecolor": "white",
           "ticks": "",
           "title": {
            "standoff": 15
           },
           "zerolinecolor": "white",
           "zerolinewidth": 2
          },
          "yaxis": {
           "automargin": true,
           "gridcolor": "white",
           "linecolor": "white",
           "ticks": "",
           "title": {
            "standoff": 15
           },
           "zerolinecolor": "white",
           "zerolinewidth": 2
          }
         }
        },
        "title": {
         "text": "PCA plot in 3D"
        },
        "width": 650
       }
      }
     },
     "metadata": {},
     "output_type": "display_data"
    }
   ],
   "source": [
    "# 3D scatterplot\n",
    "fig = px.scatter_3d(\n",
    "    components, x=0, y=1, z=2, color=preds, size=0.1*np.ones(len(X)), opacity = 1,\n",
    "    title='PCA plot in 3D',\n",
    "    labels={'0': 'PC 1', '1': 'PC 2', '2': 'PC 3'},\n",
    "    width=650, height=500\n",
    ")\n",
    "fig.show()"
   ]
  }
 ],
 "metadata": {
  "kernelspec": {
   "display_name": "ML-Pipeline",
   "language": "python",
   "name": "python3"
  },
  "language_info": {
   "codemirror_mode": {
    "name": "ipython",
    "version": 3
   },
   "file_extension": ".py",
   "mimetype": "text/x-python",
   "name": "python",
   "nbconvert_exporter": "python",
   "pygments_lexer": "ipython3",
   "version": "3.11.4"
  }
 },
 "nbformat": 4,
 "nbformat_minor": 2
}
